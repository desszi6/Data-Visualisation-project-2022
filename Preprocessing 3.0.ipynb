{
 "cells": [
  {
   "cell_type": "code",
   "execution_count": 68,
   "metadata": {},
   "outputs": [],
   "source": [
    "%reset\n"
   ]
  },
  {
   "cell_type": "code",
   "execution_count": 1,
   "metadata": {},
   "outputs": [],
   "source": [
    "from pathlib import Path\n",
    "import numpy as np\n",
    "import pandas as pd\n",
    "import matplotlib.pyplot as plt\n",
    "import warnings\n",
    "import math\n",
    "warnings.filterwarnings('ignore')\n"
   ]
  },
  {
   "cell_type": "code",
   "execution_count": 70,
   "metadata": {},
   "outputs": [],
   "source": [
    "#test_set = pd.read_csv(\"C:/Users/PC/Desktop/Kandidat - 9. semester/Data Visulization/Respository/Data-Visualisation-project-2022-1/Data/FIFA22_official_data.csv\")\n",
    "\n",
    "#preprocessed = pd.read_csv(\"C:/Users/PC/Desktop/Kandidat - 9. semester/Data Visulization/Respository/Data-Visualisation-project-2022-1/Data/Preprocessed Data/DF22.csv\")"
   ]
  },
  {
   "cell_type": "code",
   "execution_count": 71,
   "metadata": {},
   "outputs": [],
   "source": [
    "#preprocessed.Position.unique()"
   ]
  },
  {
   "cell_type": "code",
   "execution_count": 21,
   "metadata": {},
   "outputs": [],
   "source": [
    "def convert_currency(value):\n",
    "    floatvalue = 0\n",
    "    strvalue=\"\"\n",
    "    if type(value) == float:\n",
    "        floatvalue = str('Unknown')\n",
    "    elif \"K\" in value:\n",
    "        strvalue=value.replace(\"K\",\"\").replace(\"€\",\"\")\n",
    "        floatvalue=float(float(strvalue))\n",
    "    elif \"M\" in value:\n",
    "        strvalue=value.replace(\"M\",\"\").replace(\"€\",\"\")\n",
    "        floatvalue=float(float(strvalue)*1000)\n",
    "    else:\n",
    "        floatvalue=value.replace(\"€\",\"\")\n",
    "    return floatvalue\n",
    "\n",
    "def convert_bodytype(value):\n",
    "    rvalue = \"\"\n",
    "    if type(value) == float:\n",
    "        rvalue = str(\"Unknown\")\n",
    "    elif \"Lean\" in value:\n",
    "        rvalue = str(\"Lean\")\n",
    "    elif \"Normal\" in value:\n",
    "        rvalue = str(\"Normal\")\n",
    "    elif \"Stocky\" in value:\n",
    "        rvalue = str(\"Stocky\")\n",
    "    else:\n",
    "        rvalue = str(\"Unique\")\n",
    "    return rvalue\n",
    "    \n",
    "def weight_converter(value):\n",
    "    if \"kg\" in value:\n",
    "        rvalue = int(value[:-2])\n",
    "    else:\n",
    "        rvalue = int(int(value[:-3])*0.4535)\n",
    "    return rvalue\n",
    "\n",
    "def height_converter(value):\n",
    "    if \"'\" in value:\n",
    "        rvalue = value.split('\\'')\n",
    "        rvalue = round(int(value[0])*30.48+int(value[2:])*2.54,0)\n",
    "    if \"cm\" in value:\n",
    "        rvalue = value[:-2]\n",
    "    return rvalue\n",
    "def overall_pos_converter(value):\n",
    "  # Check for NAN\n",
    "  #value.insert(0,\"PAC\",int(np.ceil((value['SprintSpeed']+value['Acceleration'])/2)))\n",
    "\n",
    "  #rvalue = np.ceil((int(value['SprintSpeed'])+int(value['Acceleration']))/2)\n",
    "  \n",
    "  rvalue = value['Overall']+value['Acceleration']\n",
    "  return rvalue\n"
   ]
  },
  {
   "cell_type": "code",
   "execution_count": 73,
   "metadata": {},
   "outputs": [],
   "source": [
    "def preproces_data(data):\n",
    "    data['Value'] = data['Value'].apply(convert_currency).astype(int)\n",
    "    data['Wage']  = data['Wage'].apply(convert_currency).astype(int)\n",
    "    data['Release Clause'] = data['Release Clause'].apply(convert_currency)\n",
    "    data['Name'] = data['Name'].replace('\\d+', '', regex=True).str.lstrip()\n",
    "    data['Position'] = data['Position'].astype(str).str[-3:].str.replace(\">\",\"\")\n",
    "    data['Loaned From'] = data['Loaned From'].str.split('\">').str[1].str.replace(\"</a>\",\"\")\n",
    "    data['Body Type'] = data['Body Type'].apply(convert_bodytype)\n",
    "    data['Club Logo'] = data['Club Logo'].replace(r'/light_', r'', regex=True)\n",
    "    data['Height'] = data['Height'].apply(height_converter)\n",
    "    data['Weight'] = data['Weight'].apply(weight_converter)\n",
    "    \n",
    "    # Compact skills\n",
    "\n",
    "    data['PAC'] = 0\n",
    "    \n",
    "\n",
    "    data['Club'] = data['Club'].fillna('None')\n",
    "    data['Work Rate'] = data['Work Rate'].str.replace('N/A/ N/A','Unknown/Unknown')\n",
    "    data['Real Face'] = data['Real Face'].fillna('No')\n",
    "    data = data.fillna('Unknown')\n",
    "    data = data.rename(columns={'Height':'Height(cm)','Weight':'Weight(kg)','Flag':'National Flag',\n",
    "     'Value': 'Value(1,000€)', 'Wage': 'Wage(1,000€)', 'Work Rate': 'Offense/Defense intensity', \n",
    "     'Joined': 'Joined club (date, year)', 'Loaned from': 'Loaned from club'})\n",
    "    return data"
   ]
  },
  {
   "cell_type": "code",
   "execution_count": 74,
   "metadata": {},
   "outputs": [],
   "source": [
    "from pathlib import Path\n",
    "def get_data(paths):\n",
    "    \n",
    "    path = Path(str(paths))\n",
    "    files = Path(path).glob('*.csv') \n",
    "    dfs = [pd.read_csv(f) for f in files]\n",
    "\n",
    "    # Combine the list of dataframes\n",
    "    df = preproces_data(pd.concat(dfs, ignore_index=True))\n",
    "\n",
    "    # Add a new column with each year the row is from\n",
    "    df['Source'] = np.repeat([f'20{i+17}' for i in range(len(dfs))], [len(df) for df in dfs])\n",
    "\n",
    "    # Making partition of the data - could probably be done in one or two lines\n",
    "    df[df['Source'] == str(2017)].to_csv(str(paths)+str('/Preprocessed Data/DF17.csv'))\n",
    "    df[df['Source'] == str(2018)].to_csv(str(paths)+str('/Preprocessed Data/DF18.csv'))\n",
    "    df[df['Source'] == str(2019)].to_csv(str(paths)+str('/Preprocessed Data/DF19.csv'))\n",
    "    df[df['Source'] == str(2020)].to_csv(str(paths)+str('/Preprocessed Data/DF20.csv'))\n",
    "    df[df['Source'] == str(2021)].to_csv(str(paths)+str('/Preprocessed Data/DF21.csv'))\n",
    "    df[df['Source'] == str(2022)].to_csv(str(paths)+str('/Preprocessed Data/DF22.csv'))\n",
    "    return df\n",
    "    "
   ]
  },
  {
   "cell_type": "code",
   "execution_count": null,
   "metadata": {},
   "outputs": [],
   "source": [
    "# Insert folder path with the csv files below - make sure to have another folder called\n",
    "# 'Preprocessed Data' in that folder too (see last lines in the function above)\n",
    "get_data(\"C:/Users/PC/Desktop/Kandidat - 9. semester/Data Visulization/Respository/Data-Visualisation-project-2022-1/Data\")"
   ]
  },
  {
   "cell_type": "code",
   "execution_count": 3,
   "metadata": {},
   "outputs": [],
   "source": [
    "test = pd.read_csv(\"C:/Users/PC/Desktop/Kandidat - 9. semester/Data Visulization/Respository/Data-Visualisation-project-2022-1/Data/Preprocessed Data/DF22.csv\")"
   ]
  },
  {
   "cell_type": "code",
   "execution_count": 4,
   "metadata": {},
   "outputs": [
    {
     "data": {
      "text/plain": [
       "77"
      ]
     },
     "execution_count": 4,
     "metadata": {},
     "output_type": "execute_result"
    }
   ],
   "source": [
    "mtest = pd.concat([test[test['Name']=='E. Can'],test[test['Name']=='L. Messi']])\n",
    "int(np.ceil((test[test['Name']=='E. Can']['SprintSpeed']+test[test['Name']=='E. Can']['Acceleration'])/2))"
   ]
  },
  {
   "cell_type": "code",
   "execution_count": 15,
   "metadata": {},
   "outputs": [],
   "source": [
    "mtest.insert(0,'PAC', int(np.ceil((test[test['Name']=='E. Can']['SprintSpeed']+test[test['Name']=='E. Can']['Acceleration'])/2)))\n",
    "mtest.insert(0,'PAC2', int(np.ceil((test[test['Name']=='E. Can']['SprintSpeed']+test[test['Name']=='E. Can']['Acceleration'])/4)))"
   ]
  },
  {
   "cell_type": "code",
   "execution_count": 22,
   "metadata": {},
   "outputs": [
    {
     "ename": "TypeError",
     "evalue": "string indices must be integers",
     "output_type": "error",
     "traceback": [
      "\u001b[1;31m---------------------------------------------------------------------------\u001b[0m",
      "\u001b[1;31mTypeError\u001b[0m                                 Traceback (most recent call last)",
      "Cell \u001b[1;32mIn [22], line 5\u001b[0m\n\u001b[0;32m      1\u001b[0m mtest[\u001b[39m'\u001b[39m\u001b[39mPAC\u001b[39m\u001b[39m'\u001b[39m] \u001b[39m=\u001b[39m \u001b[39mstr\u001b[39m(\u001b[39m'\u001b[39m\u001b[39mHej\u001b[39m\u001b[39m'\u001b[39m)\n\u001b[0;32m      2\u001b[0m \u001b[39m#mtest.insert(0,\"PAC\",1)\u001b[39;00m\n\u001b[0;32m      3\u001b[0m \u001b[39m#print(mtest.iloc[0]['PAC'])\u001b[39;00m\n\u001b[0;32m      4\u001b[0m \u001b[39m#type(mtest)\u001b[39;00m\n\u001b[1;32m----> 5\u001b[0m mtest[\u001b[39m'\u001b[39;49m\u001b[39mPAC\u001b[39;49m\u001b[39m'\u001b[39;49m]\u001b[39m.\u001b[39;49mapply(overall_pos_converter)\n",
      "File \u001b[1;32mc:\\Users\\PC\\AppData\\Local\\Programs\\Python\\Python310\\lib\\site-packages\\pandas\\core\\series.py:4771\u001b[0m, in \u001b[0;36mSeries.apply\u001b[1;34m(self, func, convert_dtype, args, **kwargs)\u001b[0m\n\u001b[0;32m   4661\u001b[0m \u001b[39mdef\u001b[39;00m \u001b[39mapply\u001b[39m(\n\u001b[0;32m   4662\u001b[0m     \u001b[39mself\u001b[39m,\n\u001b[0;32m   4663\u001b[0m     func: AggFuncType,\n\u001b[1;32m   (...)\u001b[0m\n\u001b[0;32m   4666\u001b[0m     \u001b[39m*\u001b[39m\u001b[39m*\u001b[39mkwargs,\n\u001b[0;32m   4667\u001b[0m ) \u001b[39m-\u001b[39m\u001b[39m>\u001b[39m DataFrame \u001b[39m|\u001b[39m Series:\n\u001b[0;32m   4668\u001b[0m     \u001b[39m\"\"\"\u001b[39;00m\n\u001b[0;32m   4669\u001b[0m \u001b[39m    Invoke function on values of Series.\u001b[39;00m\n\u001b[0;32m   4670\u001b[0m \n\u001b[1;32m   (...)\u001b[0m\n\u001b[0;32m   4769\u001b[0m \u001b[39m    dtype: float64\u001b[39;00m\n\u001b[0;32m   4770\u001b[0m \u001b[39m    \"\"\"\u001b[39;00m\n\u001b[1;32m-> 4771\u001b[0m     \u001b[39mreturn\u001b[39;00m SeriesApply(\u001b[39mself\u001b[39;49m, func, convert_dtype, args, kwargs)\u001b[39m.\u001b[39;49mapply()\n",
      "File \u001b[1;32mc:\\Users\\PC\\AppData\\Local\\Programs\\Python\\Python310\\lib\\site-packages\\pandas\\core\\apply.py:1105\u001b[0m, in \u001b[0;36mSeriesApply.apply\u001b[1;34m(self)\u001b[0m\n\u001b[0;32m   1102\u001b[0m     \u001b[39mreturn\u001b[39;00m \u001b[39mself\u001b[39m\u001b[39m.\u001b[39mapply_str()\n\u001b[0;32m   1104\u001b[0m \u001b[39m# self.f is Callable\u001b[39;00m\n\u001b[1;32m-> 1105\u001b[0m \u001b[39mreturn\u001b[39;00m \u001b[39mself\u001b[39;49m\u001b[39m.\u001b[39;49mapply_standard()\n",
      "File \u001b[1;32mc:\\Users\\PC\\AppData\\Local\\Programs\\Python\\Python310\\lib\\site-packages\\pandas\\core\\apply.py:1156\u001b[0m, in \u001b[0;36mSeriesApply.apply_standard\u001b[1;34m(self)\u001b[0m\n\u001b[0;32m   1154\u001b[0m     \u001b[39melse\u001b[39;00m:\n\u001b[0;32m   1155\u001b[0m         values \u001b[39m=\u001b[39m obj\u001b[39m.\u001b[39mastype(\u001b[39mobject\u001b[39m)\u001b[39m.\u001b[39m_values\n\u001b[1;32m-> 1156\u001b[0m         mapped \u001b[39m=\u001b[39m lib\u001b[39m.\u001b[39;49mmap_infer(\n\u001b[0;32m   1157\u001b[0m             values,\n\u001b[0;32m   1158\u001b[0m             f,\n\u001b[0;32m   1159\u001b[0m             convert\u001b[39m=\u001b[39;49m\u001b[39mself\u001b[39;49m\u001b[39m.\u001b[39;49mconvert_dtype,\n\u001b[0;32m   1160\u001b[0m         )\n\u001b[0;32m   1162\u001b[0m \u001b[39mif\u001b[39;00m \u001b[39mlen\u001b[39m(mapped) \u001b[39mand\u001b[39;00m \u001b[39misinstance\u001b[39m(mapped[\u001b[39m0\u001b[39m], ABCSeries):\n\u001b[0;32m   1163\u001b[0m     \u001b[39m# GH#43986 Need to do list(mapped) in order to get treated as nested\u001b[39;00m\n\u001b[0;32m   1164\u001b[0m     \u001b[39m#  See also GH#25959 regarding EA support\u001b[39;00m\n\u001b[0;32m   1165\u001b[0m     \u001b[39mreturn\u001b[39;00m obj\u001b[39m.\u001b[39m_constructor_expanddim(\u001b[39mlist\u001b[39m(mapped), index\u001b[39m=\u001b[39mobj\u001b[39m.\u001b[39mindex)\n",
      "File \u001b[1;32mc:\\Users\\PC\\AppData\\Local\\Programs\\Python\\Python310\\lib\\site-packages\\pandas\\_libs\\lib.pyx:2918\u001b[0m, in \u001b[0;36mpandas._libs.lib.map_infer\u001b[1;34m()\u001b[0m\n",
      "Cell \u001b[1;32mIn [21], line 50\u001b[0m, in \u001b[0;36moverall_pos_converter\u001b[1;34m(value)\u001b[0m\n\u001b[0;32m     44\u001b[0m \u001b[39mdef\u001b[39;00m \u001b[39moverall_pos_converter\u001b[39m(value):\n\u001b[0;32m     45\u001b[0m   \u001b[39m# Check for NAN\u001b[39;00m\n\u001b[0;32m     46\u001b[0m   \u001b[39m#value.insert(0,\"PAC\",int(np.ceil((value['SprintSpeed']+value['Acceleration'])/2)))\u001b[39;00m\n\u001b[0;32m     47\u001b[0m \n\u001b[0;32m     48\u001b[0m   \u001b[39m#rvalue = np.ceil((int(value['SprintSpeed'])+int(value['Acceleration']))/2)\u001b[39;00m\n\u001b[1;32m---> 50\u001b[0m   rvalue \u001b[39m=\u001b[39m value[\u001b[39m'\u001b[39;49m\u001b[39mOverall\u001b[39;49m\u001b[39m'\u001b[39;49m]\u001b[39m+\u001b[39mvalue[\u001b[39m'\u001b[39m\u001b[39mAcceleration\u001b[39m\u001b[39m'\u001b[39m]\n\u001b[0;32m     51\u001b[0m   \u001b[39mreturn\u001b[39;00m rvalue\n",
      "\u001b[1;31mTypeError\u001b[0m: string indices must be integers"
     ]
    }
   ],
   "source": [
    "mtest['PAC'] = str('Hej')\n",
    "#mtest.insert(0,\"PAC\",1)\n",
    "#print(mtest.iloc[0]['PAC'])\n",
    "#type(mtest)\n",
    "mtest['PAC'].apply(overall_pos_converter)\n",
    "\n",
    "#overall_pos_converter(mtest)"
   ]
  },
  {
   "cell_type": "code",
   "execution_count": 28,
   "metadata": {},
   "outputs": [],
   "source": [
    "mtest['PAC']=0\n",
    "mtest['PAC'] = round((mtest['SprintSpeed'] + mtest['Acceleration'])/2)\n",
    "#round((mtest['SprintSpeed'] + mtest['Acceleration'])/2)"
   ]
  }
 ],
 "metadata": {
  "kernelspec": {
   "display_name": "Python 3.10.6 64-bit",
   "language": "python",
   "name": "python3"
  },
  "language_info": {
   "codemirror_mode": {
    "name": "ipython",
    "version": 3
   },
   "file_extension": ".py",
   "mimetype": "text/x-python",
   "name": "python",
   "nbconvert_exporter": "python",
   "pygments_lexer": "ipython3",
   "version": "3.10.6"
  },
  "orig_nbformat": 4,
  "vscode": {
   "interpreter": {
    "hash": "e593ac106456af50ce7af38f9671c411b49d6cd90f9b885e167f0f594e09038c"
   }
  }
 },
 "nbformat": 4,
 "nbformat_minor": 2
}
