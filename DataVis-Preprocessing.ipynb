{
 "cells": [
  {
   "cell_type": "code",
   "execution_count": 2,
   "metadata": {},
   "outputs": [],
   "source": [
    "%reset\n"
   ]
  },
  {
   "cell_type": "code",
   "execution_count": 3,
   "metadata": {},
   "outputs": [],
   "source": [
    "from pathlib import Path\n",
    "import numpy as np\n",
    "import pandas as pd\n",
    "import matplotlib.pyplot as plt\n",
    "import warnings\n",
    "import math\n",
    "warnings.filterwarnings('ignore')\n"
   ]
  },
  {
   "cell_type": "code",
   "execution_count": 4,
   "metadata": {},
   "outputs": [],
   "source": [
    "def convert_currency(value):\n",
    "    floatvalue = 0\n",
    "    strvalue=\"\"\n",
    "    if type(value) == float:\n",
    "        floatvalue = str('Unknown')\n",
    "    elif \"K\" in value:\n",
    "        strvalue=value.replace(\"K\",\"\").replace(\"€\",\"\")\n",
    "        floatvalue=float(float(strvalue))\n",
    "    elif \"M\" in value:\n",
    "        strvalue=value.replace(\"M\",\"\").replace(\"€\",\"\")\n",
    "        floatvalue=float(float(strvalue)*1000)\n",
    "    else:\n",
    "        floatvalue=value.replace(\"€\",\"\")\n",
    "    return floatvalue\n",
    "\n",
    "def convert_bodytype(value):\n",
    "    rvalue = \"\"\n",
    "    if type(value) == float:\n",
    "        rvalue = str(\"Unknown\")\n",
    "    elif \"Lean\" in value:\n",
    "        rvalue = str(\"Lean\")\n",
    "    elif \"Normal\" in value:\n",
    "        rvalue = str(\"Normal\")\n",
    "    elif \"Stocky\" in value:\n",
    "        rvalue = str(\"Stocky\")\n",
    "    else:\n",
    "        rvalue = str(\"Unique\")\n",
    "    return rvalue\n",
    "    \n",
    "def weight_converter(value):\n",
    "    if \"kg\" in value:\n",
    "        rvalue = int(value[:-2])\n",
    "    else:\n",
    "        rvalue = int(int(value[:-3])*0.4535)\n",
    "    return rvalue\n",
    "\n",
    "def height_converter(value):\n",
    "    if \"'\" in value:\n",
    "        rvalue = value.split('\\'')\n",
    "        rvalue = round(int(value[0])*30.48+int(value[2:])*2.54,0)\n",
    "    if \"cm\" in value:\n",
    "        rvalue = value[:-2]\n",
    "    return rvalue\n",
    "\n",
    "    "
   ]
  },
  {
   "cell_type": "code",
   "execution_count": 5,
   "metadata": {},
   "outputs": [],
   "source": [
    "def preproces_data(data):\n",
    "    data['Value'] = data['Value'].apply(convert_currency).astype(int)\n",
    "    data['Wage']  = data['Wage'].apply(convert_currency).astype(int)\n",
    "    data['Release Clause'] = data['Release Clause'].apply(convert_currency)\n",
    "    data['Name'] = data['Name'].replace('\\d+', '', regex=True).str.lstrip()\n",
    "    data['Position'] = data['Position'].astype(str).str[-3:].str.replace(\">\",\"\")\n",
    "    data['Loaned From'] = data['Loaned From'].str.split('\">').str[1].str.replace(\"</a>\",\"\")\n",
    "    data['Body Type'] = data['Body Type'].apply(convert_bodytype)\n",
    "    data['Club Logo'] = data['Club Logo'].replace(r'/light_', r'', regex=True)\n",
    "    data['Height'] = data['Height'].apply(height_converter)\n",
    "    data['Weight'] = data['Weight'].apply(weight_converter)\n",
    " \n",
    "\n",
    "    data['Club'] = data['Club'].fillna('None')\n",
    "    data['Work Rate'] = data['Work Rate'].str.replace('N/A/ N/A','Unknown/Unknown')\n",
    "    data['Real Face'] = data['Real Face'].fillna('No')\n",
    "    data = data.fillna('Unknown')\n",
    "    data = data.rename(columns={'Height':'Height(cm)','Weight':'Weight(kg)','Flag':'National Flag',\n",
    "     'Value': 'Value(1,000€)', 'Wage': 'Wage(1,000€)', 'Work Rate': 'Offense/Defense intensity', \n",
    "     'Joined': 'Joined club (date, year)', 'Loaned from': 'Loaned from club'})\n",
    "    return data"
   ]
  },
  {
   "cell_type": "code",
   "execution_count": 6,
   "metadata": {},
   "outputs": [],
   "source": [
    "from pathlib import Path\n",
    "def get_data(paths):\n",
    "    path = Path(str(paths))\n",
    "    files = Path(path).glob('*.csv') \n",
    "    dfs = [pd.read_csv(f) for f in files]\n",
    "\n",
    "    # Combine the list of dataframes\n",
    "    df = preproces_data(pd.concat(dfs, ignore_index=True))\n",
    "\n",
    "    # Add a new column with each year the row is from\n",
    "    df['Source'] = np.repeat([f'20{i+17}' for i in range(len(dfs))], [len(df) for df in dfs])\n",
    "\n",
    "    # Making partition of the data - could probably be done in one or two lines\n",
    "    df[df['Source'] == str(2017)].to_csv(str(paths)+str('/Preprocessed Data/DF17.csv'))\n",
    "    df[df['Source'] == str(2018)].to_csv(str(paths)+str('/Preprocessed Data/DF18.csv'))\n",
    "    df[df['Source'] == str(2019)].to_csv(str(paths)+str('/Preprocessed Data/DF19.csv'))\n",
    "    df[df['Source'] == str(2020)].to_csv(str(paths)+str('/Preprocessed Data/DF20.csv'))\n",
    "    df[df['Source'] == str(2021)].to_csv(str(paths)+str('/Preprocessed Data/DF21.csv'))\n",
    "    df[df['Source'] == str(2022)].to_csv(str(paths)+str('/Preprocessed Data/DF22.csv'))\n",
    "    return print('Done')\n",
    "    "
   ]
  },
  {
   "cell_type": "code",
   "execution_count": 7,
   "metadata": {},
   "outputs": [
    {
     "name": "stdout",
     "output_type": "stream",
     "text": [
      "Done\n"
     ]
    }
   ],
   "source": [
    "# Insert folder path with the csv files below - make sure to have another folder called\n",
    "# 'Preprocessed Data' in that folder too (see last lines in the function above)\n",
    "get_data(\"C:/Users/PC/Desktop/Kandidat - 9. semester/Data Visulization/Respository/Data-Visualisation-project-2022-1/Data\")"
   ]
  }
 ],
 "metadata": {
  "kernelspec": {
   "display_name": "Python 3.9.12 ('base')",
   "language": "python",
   "name": "python3"
  },
  "language_info": {
   "codemirror_mode": {
    "name": "ipython",
    "version": 3
   },
   "file_extension": ".py",
   "mimetype": "text/x-python",
   "name": "python",
   "nbconvert_exporter": "python",
   "pygments_lexer": "ipython3",
   "version": "3.9.12"
  },
  "orig_nbformat": 4,
  "vscode": {
   "interpreter": {
    "hash": "ad2bdc8ecc057115af97d19610ffacc2b4e99fae6737bb82f5d7fb13d2f2c186"
   }
  }
 },
 "nbformat": 4,
 "nbformat_minor": 2
}
