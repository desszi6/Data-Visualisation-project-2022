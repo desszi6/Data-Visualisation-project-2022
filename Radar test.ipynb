{
 "cells": [
  {
   "cell_type": "code",
   "execution_count": 20,
   "metadata": {},
   "outputs": [],
   "source": [
    "# First version of radar plot function\n",
    "import plotly.express as px\n",
    "import numpy as np\n",
    "import pandas as pd\n",
    "def radar_plot(player_row):\n",
    "    pPAC = int(np.ceil((player_row['SprintSpeed']+player_row['Acceleration'])/2))\n",
    "    pSHO = int(np.ceil((player_row['Finishing']+player_row['Positioning']+player_row['ShotPower'])\n",
    "              +player_row['LongShots']+player_row['Penalties']+player_row['Volleys'])/6)\n",
    "    pPAS = int(np.ceil((player_row['Vision']+player_row['Crossing']+player_row['FKAccuracy']\n",
    "              +player_row['LongPassing']+player_row['ShortPassing']+player_row['Curve'])/6))\n",
    "    pDRI = int(np.ceil((player_row['Agility']+player_row['Balance']+player_row['Reactions']\n",
    "              +player_row['Composure']+player_row['BallControl']+player_row['Dribbling'])/6))\n",
    "    pDEF = int(np.ceil((player_row['Interceptions']+player_row['HeadingAccuracy']+player_row['DefensiveAwareness']\n",
    "              +player_row['StandingTackle']+player_row['SlidingTackle'])/5))\n",
    "    pPHY = int(np.ceil((player_row['Jumping']+player_row['Stamina']+player_row['Strength']\n",
    "              +player_row['Aggression'])/4))\n",
    "    df = pd.DataFrame(dict(\n",
    "    r=[pPAC, pSHO, pPAS, pDRI, pDEF, pPHY],\n",
    "    theta=['PAC','SHO','PAS',\n",
    "           'DRI', 'DEF','PHY']))\n",
    "    fig = px.line_polar(df, r='r', theta='theta', line_close=True, range_r=(0,100))\n",
    "    fig.update_traces(fill='toself')\n",
    "    return fig.show()"
   ]
  },
  {
   "cell_type": "code",
   "execution_count": 7,
   "metadata": {},
   "outputs": [],
   "source": [
    "test_set = pd.read_csv(\"C:/Users/PC/Desktop/Kandidat - 9. semester/Data Visulization/Respository/Data-Visualisation-project-2022-1/Data/FIFA22_official_data.csv\")"
   ]
  },
  {
   "cell_type": "code",
   "execution_count": 37,
   "metadata": {},
   "outputs": [
    {
     "ename": "ValueError",
     "evalue": "All arrays must be of the same length",
     "output_type": "error",
     "traceback": [
      "\u001b[1;31m---------------------------------------------------------------------------\u001b[0m",
      "\u001b[1;31mValueError\u001b[0m                                Traceback (most recent call last)",
      "\u001b[1;32mc:\\Users\\PC\\Desktop\\Kandidat - 9. semester\\Data Visulization\\Respository\\Data-Visualisation-project-2022-1\\Radar test.ipynb Cell 3\u001b[0m in \u001b[0;36m<cell line: 26>\u001b[1;34m()\u001b[0m\n\u001b[0;32m     <a href='vscode-notebook-cell:/c%3A/Users/PC/Desktop/Kandidat%20-%209.%20semester/Data%20Visulization/Respository/Data-Visualisation-project-2022-1/Radar%20test.ipynb#W4sZmlsZQ%3D%3D?line=23'>24</a>\u001b[0m     fig\u001b[39m.\u001b[39mupdate_traces(fill\u001b[39m=\u001b[39m\u001b[39m'\u001b[39m\u001b[39mtoself\u001b[39m\u001b[39m'\u001b[39m)\n\u001b[0;32m     <a href='vscode-notebook-cell:/c%3A/Users/PC/Desktop/Kandidat%20-%209.%20semester/Data%20Visulization/Respository/Data-Visualisation-project-2022-1/Radar%20test.ipynb#W4sZmlsZQ%3D%3D?line=24'>25</a>\u001b[0m     \u001b[39mreturn\u001b[39;00m fig\u001b[39m.\u001b[39mshow()\n\u001b[1;32m---> <a href='vscode-notebook-cell:/c%3A/Users/PC/Desktop/Kandidat%20-%209.%20semester/Data%20Visulization/Respository/Data-Visualisation-project-2022-1/Radar%20test.ipynb#W4sZmlsZQ%3D%3D?line=25'>26</a>\u001b[0m radar_plot(test_set[test_set[\u001b[39m\"\u001b[39;49m\u001b[39mName\u001b[39;49m\u001b[39m\"\u001b[39;49m]\u001b[39m==\u001b[39;49m\u001b[39m\"\u001b[39;49m\u001b[39mE. Can\u001b[39;49m\u001b[39m\"\u001b[39;49m])\n",
      "\u001b[1;32mc:\\Users\\PC\\Desktop\\Kandidat - 9. semester\\Data Visulization\\Respository\\Data-Visualisation-project-2022-1\\Radar test.ipynb Cell 3\u001b[0m in \u001b[0;36mradar_plot\u001b[1;34m(player_row)\u001b[0m\n\u001b[0;32m     <a href='vscode-notebook-cell:/c%3A/Users/PC/Desktop/Kandidat%20-%209.%20semester/Data%20Visulization/Respository/Data-Visualisation-project-2022-1/Radar%20test.ipynb#W4sZmlsZQ%3D%3D?line=15'>16</a>\u001b[0m \u001b[39mdef\u001b[39;00m \u001b[39mradar_plot\u001b[39m(player_row):\n\u001b[0;32m     <a href='vscode-notebook-cell:/c%3A/Users/PC/Desktop/Kandidat%20-%209.%20semester/Data%20Visulization/Respository/Data-Visualisation-project-2022-1/Radar%20test.ipynb#W4sZmlsZQ%3D%3D?line=16'>17</a>\u001b[0m     data \u001b[39m=\u001b[39m [data_subplot(test_set[test_set[\u001b[39m\"\u001b[39m\u001b[39mName\u001b[39m\u001b[39m\"\u001b[39m]\u001b[39m==\u001b[39m\u001b[39m\"\u001b[39m\u001b[39mE. Can\u001b[39m\u001b[39m\"\u001b[39m]), \n\u001b[0;32m     <a href='vscode-notebook-cell:/c%3A/Users/PC/Desktop/Kandidat%20-%209.%20semester/Data%20Visulization/Respository/Data-Visualisation-project-2022-1/Radar%20test.ipynb#W4sZmlsZQ%3D%3D?line=17'>18</a>\u001b[0m     data_subplot(test_set[test_set[\u001b[39m\"\u001b[39m\u001b[39mName\u001b[39m\u001b[39m\"\u001b[39m]\u001b[39m==\u001b[39m\u001b[39m\"\u001b[39m\u001b[39mE. Can\u001b[39m\u001b[39m\"\u001b[39m])]\n\u001b[1;32m---> <a href='vscode-notebook-cell:/c%3A/Users/PC/Desktop/Kandidat%20-%209.%20semester/Data%20Visulization/Respository/Data-Visualisation-project-2022-1/Radar%20test.ipynb#W4sZmlsZQ%3D%3D?line=18'>19</a>\u001b[0m     df \u001b[39m=\u001b[39m pd\u001b[39m.\u001b[39;49mDataFrame(\u001b[39mdict\u001b[39;49m(\n\u001b[0;32m     <a href='vscode-notebook-cell:/c%3A/Users/PC/Desktop/Kandidat%20-%209.%20semester/Data%20Visulization/Respository/Data-Visualisation-project-2022-1/Radar%20test.ipynb#W4sZmlsZQ%3D%3D?line=19'>20</a>\u001b[0m     r\u001b[39m=\u001b[39;49m[[data[\u001b[39m1\u001b[39;49m][\u001b[39m0\u001b[39;49m],data[\u001b[39m1\u001b[39;49m][\u001b[39m1\u001b[39;49m],data[\u001b[39m1\u001b[39;49m][\u001b[39m2\u001b[39;49m],data[\u001b[39m1\u001b[39;49m][\u001b[39m3\u001b[39;49m],data[\u001b[39m1\u001b[39;49m][\u001b[39m4\u001b[39;49m],data[\u001b[39m1\u001b[39;49m][\u001b[39m5\u001b[39;49m]],\n\u001b[0;32m     <a href='vscode-notebook-cell:/c%3A/Users/PC/Desktop/Kandidat%20-%209.%20semester/Data%20Visulization/Respository/Data-Visualisation-project-2022-1/Radar%20test.ipynb#W4sZmlsZQ%3D%3D?line=20'>21</a>\u001b[0m         data[\u001b[39m0\u001b[39;49m][\u001b[39m0\u001b[39;49m],data[\u001b[39m0\u001b[39;49m][\u001b[39m1\u001b[39;49m],data[\u001b[39m0\u001b[39;49m][\u001b[39m2\u001b[39;49m],data[\u001b[39m0\u001b[39;49m][\u001b[39m3\u001b[39;49m],data[\u001b[39m0\u001b[39;49m][\u001b[39m4\u001b[39;49m],data[\u001b[39m0\u001b[39;49m][\u001b[39m5\u001b[39;49m]],\n\u001b[0;32m     <a href='vscode-notebook-cell:/c%3A/Users/PC/Desktop/Kandidat%20-%209.%20semester/Data%20Visulization/Respository/Data-Visualisation-project-2022-1/Radar%20test.ipynb#W4sZmlsZQ%3D%3D?line=21'>22</a>\u001b[0m     theta\u001b[39m=\u001b[39;49m[[\u001b[39m'\u001b[39;49m\u001b[39mPAC\u001b[39;49m\u001b[39m'\u001b[39;49m,\u001b[39m'\u001b[39;49m\u001b[39mSHO\u001b[39;49m\u001b[39m'\u001b[39;49m,\u001b[39m'\u001b[39;49m\u001b[39mPAS\u001b[39;49m\u001b[39m'\u001b[39;49m,\u001b[39m'\u001b[39;49m\u001b[39mDRI\u001b[39;49m\u001b[39m'\u001b[39;49m, \u001b[39m'\u001b[39;49m\u001b[39mDEF\u001b[39;49m\u001b[39m'\u001b[39;49m,\u001b[39m'\u001b[39;49m\u001b[39mPHY\u001b[39;49m\u001b[39m'\u001b[39;49m],[\u001b[39m'\u001b[39;49m\u001b[39mPAC\u001b[39;49m\u001b[39m'\u001b[39;49m,\u001b[39m'\u001b[39;49m\u001b[39mSHO\u001b[39;49m\u001b[39m'\u001b[39;49m,\u001b[39m'\u001b[39;49m\u001b[39mPAS\u001b[39;49m\u001b[39m'\u001b[39;49m,\u001b[39m'\u001b[39;49m\u001b[39mDRI\u001b[39;49m\u001b[39m'\u001b[39;49m, \u001b[39m'\u001b[39;49m\u001b[39mDEF\u001b[39;49m\u001b[39m'\u001b[39;49m,\u001b[39m'\u001b[39;49m\u001b[39mPHY\u001b[39;49m\u001b[39m'\u001b[39;49m]]))\n\u001b[0;32m     <a href='vscode-notebook-cell:/c%3A/Users/PC/Desktop/Kandidat%20-%209.%20semester/Data%20Visulization/Respository/Data-Visualisation-project-2022-1/Radar%20test.ipynb#W4sZmlsZQ%3D%3D?line=22'>23</a>\u001b[0m     fig \u001b[39m=\u001b[39m px\u001b[39m.\u001b[39mline_polar(df, r\u001b[39m=\u001b[39m\u001b[39m'\u001b[39m\u001b[39mr\u001b[39m\u001b[39m'\u001b[39m, theta\u001b[39m=\u001b[39m\u001b[39m'\u001b[39m\u001b[39mtheta\u001b[39m\u001b[39m'\u001b[39m, line_close\u001b[39m=\u001b[39m\u001b[39mTrue\u001b[39;00m, range_r\u001b[39m=\u001b[39m(\u001b[39m0\u001b[39m,\u001b[39m100\u001b[39m))\n\u001b[0;32m     <a href='vscode-notebook-cell:/c%3A/Users/PC/Desktop/Kandidat%20-%209.%20semester/Data%20Visulization/Respository/Data-Visualisation-project-2022-1/Radar%20test.ipynb#W4sZmlsZQ%3D%3D?line=23'>24</a>\u001b[0m     fig\u001b[39m.\u001b[39mupdate_traces(fill\u001b[39m=\u001b[39m\u001b[39m'\u001b[39m\u001b[39mtoself\u001b[39m\u001b[39m'\u001b[39m)\n",
      "File \u001b[1;32mc:\\ProgramData\\Anaconda3\\lib\\site-packages\\pandas\\core\\frame.py:636\u001b[0m, in \u001b[0;36mDataFrame.__init__\u001b[1;34m(self, data, index, columns, dtype, copy)\u001b[0m\n\u001b[0;32m    630\u001b[0m     mgr \u001b[39m=\u001b[39m \u001b[39mself\u001b[39m\u001b[39m.\u001b[39m_init_mgr(\n\u001b[0;32m    631\u001b[0m         data, axes\u001b[39m=\u001b[39m{\u001b[39m\"\u001b[39m\u001b[39mindex\u001b[39m\u001b[39m\"\u001b[39m: index, \u001b[39m\"\u001b[39m\u001b[39mcolumns\u001b[39m\u001b[39m\"\u001b[39m: columns}, dtype\u001b[39m=\u001b[39mdtype, copy\u001b[39m=\u001b[39mcopy\n\u001b[0;32m    632\u001b[0m     )\n\u001b[0;32m    634\u001b[0m \u001b[39melif\u001b[39;00m \u001b[39misinstance\u001b[39m(data, \u001b[39mdict\u001b[39m):\n\u001b[0;32m    635\u001b[0m     \u001b[39m# GH#38939 de facto copy defaults to False only in non-dict cases\u001b[39;00m\n\u001b[1;32m--> 636\u001b[0m     mgr \u001b[39m=\u001b[39m dict_to_mgr(data, index, columns, dtype\u001b[39m=\u001b[39;49mdtype, copy\u001b[39m=\u001b[39;49mcopy, typ\u001b[39m=\u001b[39;49mmanager)\n\u001b[0;32m    637\u001b[0m \u001b[39melif\u001b[39;00m \u001b[39misinstance\u001b[39m(data, ma\u001b[39m.\u001b[39mMaskedArray):\n\u001b[0;32m    638\u001b[0m     \u001b[39mimport\u001b[39;00m \u001b[39mnumpy\u001b[39;00m\u001b[39m.\u001b[39;00m\u001b[39mma\u001b[39;00m\u001b[39m.\u001b[39;00m\u001b[39mmrecords\u001b[39;00m \u001b[39mas\u001b[39;00m \u001b[39mmrecords\u001b[39;00m\n",
      "File \u001b[1;32mc:\\ProgramData\\Anaconda3\\lib\\site-packages\\pandas\\core\\internals\\construction.py:502\u001b[0m, in \u001b[0;36mdict_to_mgr\u001b[1;34m(data, index, columns, dtype, typ, copy)\u001b[0m\n\u001b[0;32m    494\u001b[0m     arrays \u001b[39m=\u001b[39m [\n\u001b[0;32m    495\u001b[0m         x\n\u001b[0;32m    496\u001b[0m         \u001b[39mif\u001b[39;00m \u001b[39mnot\u001b[39;00m \u001b[39mhasattr\u001b[39m(x, \u001b[39m\"\u001b[39m\u001b[39mdtype\u001b[39m\u001b[39m\"\u001b[39m) \u001b[39mor\u001b[39;00m \u001b[39mnot\u001b[39;00m \u001b[39misinstance\u001b[39m(x\u001b[39m.\u001b[39mdtype, ExtensionDtype)\n\u001b[0;32m    497\u001b[0m         \u001b[39melse\u001b[39;00m x\u001b[39m.\u001b[39mcopy()\n\u001b[0;32m    498\u001b[0m         \u001b[39mfor\u001b[39;00m x \u001b[39min\u001b[39;00m arrays\n\u001b[0;32m    499\u001b[0m     ]\n\u001b[0;32m    500\u001b[0m     \u001b[39m# TODO: can we get rid of the dt64tz special case above?\u001b[39;00m\n\u001b[1;32m--> 502\u001b[0m \u001b[39mreturn\u001b[39;00m arrays_to_mgr(arrays, columns, index, dtype\u001b[39m=\u001b[39;49mdtype, typ\u001b[39m=\u001b[39;49mtyp, consolidate\u001b[39m=\u001b[39;49mcopy)\n",
      "File \u001b[1;32mc:\\ProgramData\\Anaconda3\\lib\\site-packages\\pandas\\core\\internals\\construction.py:120\u001b[0m, in \u001b[0;36marrays_to_mgr\u001b[1;34m(arrays, columns, index, dtype, verify_integrity, typ, consolidate)\u001b[0m\n\u001b[0;32m    117\u001b[0m \u001b[39mif\u001b[39;00m verify_integrity:\n\u001b[0;32m    118\u001b[0m     \u001b[39m# figure out the index, if necessary\u001b[39;00m\n\u001b[0;32m    119\u001b[0m     \u001b[39mif\u001b[39;00m index \u001b[39mis\u001b[39;00m \u001b[39mNone\u001b[39;00m:\n\u001b[1;32m--> 120\u001b[0m         index \u001b[39m=\u001b[39m _extract_index(arrays)\n\u001b[0;32m    121\u001b[0m     \u001b[39melse\u001b[39;00m:\n\u001b[0;32m    122\u001b[0m         index \u001b[39m=\u001b[39m ensure_index(index)\n",
      "File \u001b[1;32mc:\\ProgramData\\Anaconda3\\lib\\site-packages\\pandas\\core\\internals\\construction.py:674\u001b[0m, in \u001b[0;36m_extract_index\u001b[1;34m(data)\u001b[0m\n\u001b[0;32m    672\u001b[0m lengths \u001b[39m=\u001b[39m \u001b[39mlist\u001b[39m(\u001b[39mset\u001b[39m(raw_lengths))\n\u001b[0;32m    673\u001b[0m \u001b[39mif\u001b[39;00m \u001b[39mlen\u001b[39m(lengths) \u001b[39m>\u001b[39m \u001b[39m1\u001b[39m:\n\u001b[1;32m--> 674\u001b[0m     \u001b[39mraise\u001b[39;00m \u001b[39mValueError\u001b[39;00m(\u001b[39m\"\u001b[39m\u001b[39mAll arrays must be of the same length\u001b[39m\u001b[39m\"\u001b[39m)\n\u001b[0;32m    676\u001b[0m \u001b[39mif\u001b[39;00m have_dicts:\n\u001b[0;32m    677\u001b[0m     \u001b[39mraise\u001b[39;00m \u001b[39mValueError\u001b[39;00m(\n\u001b[0;32m    678\u001b[0m         \u001b[39m\"\u001b[39m\u001b[39mMixing dicts with non-Series may lead to ambiguous ordering.\u001b[39m\u001b[39m\"\u001b[39m\n\u001b[0;32m    679\u001b[0m     )\n",
      "\u001b[1;31mValueError\u001b[0m: All arrays must be of the same length"
     ]
    }
   ],
   "source": [
    "def data_subplot(player_row):\n",
    "    pPAC = int(np.ceil((player_row['SprintSpeed']+player_row['Acceleration'])/2))\n",
    "    pSHO = int(np.ceil((player_row['Finishing']+player_row['Positioning']+player_row['ShotPower'])\n",
    "              +player_row['LongShots']+player_row['Penalties']+player_row['Volleys'])/6)\n",
    "    pPAS = int(np.ceil((player_row['Vision']+player_row['Crossing']+player_row['FKAccuracy']\n",
    "              +player_row['LongPassing']+player_row['ShortPassing']+player_row['Curve'])/6))\n",
    "    pDRI = int(np.ceil((player_row['Agility']+player_row['Balance']+player_row['Reactions']\n",
    "              +player_row['Composure']+player_row['BallControl']+player_row['Dribbling'])/6))\n",
    "    pDEF = int(np.ceil((player_row['Interceptions']+player_row['HeadingAccuracy']+player_row['DefensiveAwareness']\n",
    "              +player_row['StandingTackle']+player_row['SlidingTackle'])/5))\n",
    "    pPHY = int(np.ceil((player_row['Jumping']+player_row['Stamina']+player_row['Strength']\n",
    "              +player_row['Aggression'])/4))\n",
    "    return (pPAC,pSHO,pPAS,pDRI,pDEF,pPHY)\n",
    "#print(data_subplot(test_set[test_set[\"Name\"]==\"E. Can\"]))\n",
    "\n",
    "def radar_plot(player_row):\n",
    "    data = [data_subplot(test_set[test_set[\"Name\"]==\"E. Can\"]), \n",
    "    data_subplot(test_set[test_set[\"Name\"]==\"E. Can\"])]\n",
    "    df = pd.DataFrame(dict(\n",
    "    r=[[data[1][0],data[1][1],data[1][2],data[1][3],data[1][4],data[1][5]],\n",
    "        data[0][0],data[0][1],data[0][2],data[0][3],data[0][4],data[0][5]],\n",
    "    theta=[['PAC','SHO','PAS','DRI', 'DEF','PHY'],['PAC','SHO','PAS','DRI', 'DEF','PHY']]))\n",
    "    fig = px.line_polar(df, r='r', theta='theta', line_close=True, range_r=(0,100))\n",
    "    fig.update_traces(fill='toself')\n",
    "    return fig.show()\n",
    "radar_plot(test_set[test_set[\"Name\"]==\"E. Can\"])"
   ]
  },
  {
   "cell_type": "code",
   "execution_count": 32,
   "metadata": {},
   "outputs": [
    {
     "ename": "ValueError",
     "evalue": "The first argument to the plotly.graph_objs.Barpolar \nconstructor must be a dict or \nan instance of :class:`plotly.graph_objs.Barpolar`",
     "output_type": "error",
     "traceback": [
      "\u001b[1;31m---------------------------------------------------------------------------\u001b[0m",
      "\u001b[1;31mValueError\u001b[0m                                Traceback (most recent call last)",
      "\u001b[1;32mc:\\Users\\PC\\Desktop\\Kandidat - 9. semester\\Data Visulization\\Respository\\Data-Visualisation-project-2022-1\\Radar test.ipynb Cell 4\u001b[0m in \u001b[0;36m<cell line: 10>\u001b[1;34m()\u001b[0m\n\u001b[0;32m      <a href='vscode-notebook-cell:/c%3A/Users/PC/Desktop/Kandidat%20-%209.%20semester/Data%20Visulization/Respository/Data-Visualisation-project-2022-1/Radar%20test.ipynb#W1sZmlsZQ%3D%3D?line=3'>4</a>\u001b[0m fig \u001b[39m=\u001b[39m make_subplots(\n\u001b[0;32m      <a href='vscode-notebook-cell:/c%3A/Users/PC/Desktop/Kandidat%20-%209.%20semester/Data%20Visulization/Respository/Data-Visualisation-project-2022-1/Radar%20test.ipynb#W1sZmlsZQ%3D%3D?line=4'>5</a>\u001b[0m     rows\u001b[39m=\u001b[39m\u001b[39m1\u001b[39m, cols\u001b[39m=\u001b[39m\u001b[39m2\u001b[39m,\n\u001b[0;32m      <a href='vscode-notebook-cell:/c%3A/Users/PC/Desktop/Kandidat%20-%209.%20semester/Data%20Visulization/Respository/Data-Visualisation-project-2022-1/Radar%20test.ipynb#W1sZmlsZQ%3D%3D?line=5'>6</a>\u001b[0m     specs\u001b[39m=\u001b[39m[[{\u001b[39m\"\u001b[39m\u001b[39mtype\u001b[39m\u001b[39m\"\u001b[39m: \u001b[39m\"\u001b[39m\u001b[39mbarpolar\u001b[39m\u001b[39m\"\u001b[39m}, {\u001b[39m\"\u001b[39m\u001b[39mtype\u001b[39m\u001b[39m\"\u001b[39m: \u001b[39m\"\u001b[39m\u001b[39mbarpolar\u001b[39m\u001b[39m\"\u001b[39m}]],\n\u001b[0;32m      <a href='vscode-notebook-cell:/c%3A/Users/PC/Desktop/Kandidat%20-%209.%20semester/Data%20Visulization/Respository/Data-Visualisation-project-2022-1/Radar%20test.ipynb#W1sZmlsZQ%3D%3D?line=6'>7</a>\u001b[0m )\n\u001b[0;32m      <a href='vscode-notebook-cell:/c%3A/Users/PC/Desktop/Kandidat%20-%209.%20semester/Data%20Visulization/Respository/Data-Visualisation-project-2022-1/Radar%20test.ipynb#W1sZmlsZQ%3D%3D?line=7'>8</a>\u001b[0m data \u001b[39m=\u001b[39m [data_subplot(test_set[test_set[\u001b[39m\"\u001b[39m\u001b[39mName\u001b[39m\u001b[39m\"\u001b[39m]\u001b[39m==\u001b[39m\u001b[39m\"\u001b[39m\u001b[39mE. Can\u001b[39m\u001b[39m\"\u001b[39m]), \n\u001b[0;32m      <a href='vscode-notebook-cell:/c%3A/Users/PC/Desktop/Kandidat%20-%209.%20semester/Data%20Visulization/Respository/Data-Visualisation-project-2022-1/Radar%20test.ipynb#W1sZmlsZQ%3D%3D?line=8'>9</a>\u001b[0m data_subplot(test_set[test_set[\u001b[39m\"\u001b[39m\u001b[39mName\u001b[39m\u001b[39m\"\u001b[39m]\u001b[39m==\u001b[39m\u001b[39m\"\u001b[39m\u001b[39mE. Can\u001b[39m\u001b[39m\"\u001b[39m])]\n\u001b[1;32m---> <a href='vscode-notebook-cell:/c%3A/Users/PC/Desktop/Kandidat%20-%209.%20semester/Data%20Visulization/Respository/Data-Visualisation-project-2022-1/Radar%20test.ipynb#W1sZmlsZQ%3D%3D?line=9'>10</a>\u001b[0m fig\u001b[39m.\u001b[39madd_trace(go\u001b[39m.\u001b[39;49mBarpolar([\u001b[39m'\u001b[39;49m\u001b[39mPAC\u001b[39;49m\u001b[39m'\u001b[39;49m,\u001b[39m'\u001b[39;49m\u001b[39mSHO\u001b[39;49m\u001b[39m'\u001b[39;49m,\u001b[39m'\u001b[39;49m\u001b[39mPAS\u001b[39;49m\u001b[39m'\u001b[39;49m,\u001b[39m'\u001b[39;49m\u001b[39mDRI\u001b[39;49m\u001b[39m'\u001b[39;49m, \u001b[39m'\u001b[39;49m\u001b[39mDEF\u001b[39;49m\u001b[39m'\u001b[39;49m,\u001b[39m'\u001b[39;49m\u001b[39mPHY\u001b[39;49m\u001b[39m'\u001b[39;49m], \n\u001b[0;32m     <a href='vscode-notebook-cell:/c%3A/Users/PC/Desktop/Kandidat%20-%209.%20semester/Data%20Visulization/Respository/Data-Visualisation-project-2022-1/Radar%20test.ipynb#W1sZmlsZQ%3D%3D?line=10'>11</a>\u001b[0m     r\u001b[39m=\u001b[39;49m[data[\u001b[39m1\u001b[39;49m][\u001b[39m0\u001b[39;49m],data[\u001b[39m1\u001b[39;49m][\u001b[39m1\u001b[39;49m],data[\u001b[39m1\u001b[39;49m][\u001b[39m2\u001b[39;49m],data[\u001b[39m1\u001b[39;49m][\u001b[39m3\u001b[39;49m],data[\u001b[39m1\u001b[39;49m][\u001b[39m4\u001b[39;49m],data[\u001b[39m1\u001b[39;49m][\u001b[39m5\u001b[39;49m]]),\n\u001b[0;32m     <a href='vscode-notebook-cell:/c%3A/Users/PC/Desktop/Kandidat%20-%209.%20semester/Data%20Visulization/Respository/Data-Visualisation-project-2022-1/Radar%20test.ipynb#W1sZmlsZQ%3D%3D?line=11'>12</a>\u001b[0m               row\u001b[39m=\u001b[39m\u001b[39m1\u001b[39m, col\u001b[39m=\u001b[39m\u001b[39m1\u001b[39m)\n\u001b[0;32m     <a href='vscode-notebook-cell:/c%3A/Users/PC/Desktop/Kandidat%20-%209.%20semester/Data%20Visulization/Respository/Data-Visualisation-project-2022-1/Radar%20test.ipynb#W1sZmlsZQ%3D%3D?line=13'>14</a>\u001b[0m fig\u001b[39m.\u001b[39madd_trace(go\u001b[39m.\u001b[39mBarpolar([\u001b[39m'\u001b[39m\u001b[39mPAC\u001b[39m\u001b[39m'\u001b[39m,\u001b[39m'\u001b[39m\u001b[39mSHO\u001b[39m\u001b[39m'\u001b[39m,\u001b[39m'\u001b[39m\u001b[39mPAS\u001b[39m\u001b[39m'\u001b[39m,\u001b[39m'\u001b[39m\u001b[39mDRI\u001b[39m\u001b[39m'\u001b[39m, \u001b[39m'\u001b[39m\u001b[39mDEF\u001b[39m\u001b[39m'\u001b[39m,\u001b[39m'\u001b[39m\u001b[39mPHY\u001b[39m\u001b[39m'\u001b[39m], \n\u001b[0;32m     <a href='vscode-notebook-cell:/c%3A/Users/PC/Desktop/Kandidat%20-%209.%20semester/Data%20Visulization/Respository/Data-Visualisation-project-2022-1/Radar%20test.ipynb#W1sZmlsZQ%3D%3D?line=14'>15</a>\u001b[0m     r\u001b[39m=\u001b[39m[data[\u001b[39m0\u001b[39m][\u001b[39m0\u001b[39m],data[\u001b[39m0\u001b[39m][\u001b[39m1\u001b[39m],data[\u001b[39m0\u001b[39m][\u001b[39m2\u001b[39m],data[\u001b[39m0\u001b[39m][\u001b[39m3\u001b[39m],data[\u001b[39m0\u001b[39m][\u001b[39m4\u001b[39m],data[\u001b[39m0\u001b[39m][\u001b[39m5\u001b[39m]]),\n\u001b[0;32m     <a href='vscode-notebook-cell:/c%3A/Users/PC/Desktop/Kandidat%20-%209.%20semester/Data%20Visulization/Respository/Data-Visualisation-project-2022-1/Radar%20test.ipynb#W1sZmlsZQ%3D%3D?line=15'>16</a>\u001b[0m               row\u001b[39m=\u001b[39m\u001b[39m1\u001b[39m, col\u001b[39m=\u001b[39m\u001b[39m2\u001b[39m)\n\u001b[0;32m     <a href='vscode-notebook-cell:/c%3A/Users/PC/Desktop/Kandidat%20-%209.%20semester/Data%20Visulization/Respository/Data-Visualisation-project-2022-1/Radar%20test.ipynb#W1sZmlsZQ%3D%3D?line=18'>19</a>\u001b[0m layout \u001b[39m=\u001b[39m go\u001b[39m.\u001b[39mLayout(\n\u001b[0;32m     <a href='vscode-notebook-cell:/c%3A/Users/PC/Desktop/Kandidat%20-%209.%20semester/Data%20Visulization/Respository/Data-Visualisation-project-2022-1/Radar%20test.ipynb#W1sZmlsZQ%3D%3D?line=19'>20</a>\u001b[0m     yaxis\u001b[39m=\u001b[39m\u001b[39mdict\u001b[39m(\n\u001b[0;32m     <a href='vscode-notebook-cell:/c%3A/Users/PC/Desktop/Kandidat%20-%209.%20semester/Data%20Visulization/Respository/Data-Visualisation-project-2022-1/Radar%20test.ipynb#W1sZmlsZQ%3D%3D?line=20'>21</a>\u001b[0m         domain\u001b[39m=\u001b[39m[\u001b[39m0\u001b[39m, \u001b[39m0.5\u001b[39m]\n\u001b[1;32m   (...)\u001b[0m\n\u001b[0;32m     <a href='vscode-notebook-cell:/c%3A/Users/PC/Desktop/Kandidat%20-%209.%20semester/Data%20Visulization/Respository/Data-Visualisation-project-2022-1/Radar%20test.ipynb#W1sZmlsZQ%3D%3D?line=28'>29</a>\u001b[0m \n\u001b[0;32m     <a href='vscode-notebook-cell:/c%3A/Users/PC/Desktop/Kandidat%20-%209.%20semester/Data%20Visulization/Respository/Data-Visualisation-project-2022-1/Radar%20test.ipynb#W1sZmlsZQ%3D%3D?line=29'>30</a>\u001b[0m )\n",
      "File \u001b[1;32mc:\\ProgramData\\Anaconda3\\lib\\site-packages\\plotly\\graph_objs\\_barpolar.py:1751\u001b[0m, in \u001b[0;36mBarpolar.__init__\u001b[1;34m(self, arg, base, basesrc, customdata, customdatasrc, dr, dtheta, hoverinfo, hoverinfosrc, hoverlabel, hovertemplate, hovertemplatesrc, hovertext, hovertextsrc, ids, idssrc, legendgroup, legendgrouptitle, legendrank, marker, meta, metasrc, name, offset, offsetsrc, opacity, r, r0, rsrc, selected, selectedpoints, showlegend, stream, subplot, text, textsrc, theta, theta0, thetasrc, thetaunit, uid, uirevision, unselected, visible, width, widthsrc, **kwargs)\u001b[0m\n\u001b[0;32m   1749\u001b[0m             arg \u001b[39m=\u001b[39m _copy\u001b[39m.\u001b[39mcopy(arg)\n\u001b[0;32m   1750\u001b[0m         \u001b[39melse\u001b[39;00m:\n\u001b[1;32m-> 1751\u001b[0m             \u001b[39mraise\u001b[39;00m \u001b[39mValueError\u001b[39;00m(\n\u001b[0;32m   1752\u001b[0m                 \u001b[39m\"\"\"\\\u001b[39;00m\n\u001b[0;32m   1753\u001b[0m \u001b[39mThe first argument to the plotly.graph_objs.Barpolar \u001b[39;00m\n\u001b[0;32m   1754\u001b[0m \u001b[39mconstructor must be a dict or \u001b[39;00m\n\u001b[0;32m   1755\u001b[0m \u001b[39man instance of :class:`plotly.graph_objs.Barpolar`\"\"\"\u001b[39;00m\n\u001b[0;32m   1756\u001b[0m             )\n\u001b[0;32m   1758\u001b[0m         \u001b[39m# Handle skip_invalid\u001b[39;00m\n\u001b[0;32m   1759\u001b[0m         \u001b[39m# -------------------\u001b[39;00m\n\u001b[0;32m   1760\u001b[0m         \u001b[39mself\u001b[39m\u001b[39m.\u001b[39m_skip_invalid \u001b[39m=\u001b[39m kwargs\u001b[39m.\u001b[39mpop(\u001b[39m\"\u001b[39m\u001b[39mskip_invalid\u001b[39m\u001b[39m\"\u001b[39m, \u001b[39mFalse\u001b[39;00m)\n",
      "\u001b[1;31mValueError\u001b[0m: The first argument to the plotly.graph_objs.Barpolar \nconstructor must be a dict or \nan instance of :class:`plotly.graph_objs.Barpolar`"
     ]
    }
   ],
   "source": [
    "# Insert a player-name\n",
    "import plotly.graph_objects as go\n",
    "from plotly.subplots import make_subplots\n",
    "fig = make_subplots(\n",
    "    rows=1, cols=2,\n",
    "    specs=[[{\"type\": \"barpolar\"}, {\"type\": \"barpolar\"}]],\n",
    ")\n",
    "data = [data_subplot(test_set[test_set[\"Name\"]==\"E. Can\"]), \n",
    "data_subplot(test_set[test_set[\"Name\"]==\"E. Can\"])]\n",
    "fig.add_trace(go.Barpolar(['PAC','SHO','PAS','DRI', 'DEF','PHY'], \n",
    "    r=[data[1][0],data[1][1],data[1][2],data[1][3],data[1][4],data[1][5]]),\n",
    "              row=1, col=1)\n",
    "\n",
    "fig.add_trace(go.Barpolar(['PAC','SHO','PAS','DRI', 'DEF','PHY'], \n",
    "    r=[data[0][0],data[0][1],data[0][2],data[0][3],data[0][4],data[0][5]]),\n",
    "              row=1, col=2)\n",
    "\n",
    "\n",
    "layout = go.Layout(\n",
    "    yaxis=dict(\n",
    "        domain=[0, 0.5]\n",
    "    ),\n",
    "    legend=dict(\n",
    "        traceorder=\"reversed\"\n",
    "    ),\n",
    "    yaxis2=dict(\n",
    "        domain=[0.5,1]\n",
    "    ),\n",
    "\n",
    ")\n",
    "fig = go.Figure(data=data, layout=layout)\n",
    "fig.show()\n",
    "\n",
    "#radar_plot(test_set[test_set[\"Name\"]==\"E. Can\"])"
   ]
  },
  {
   "cell_type": "code",
   "execution_count": 38,
   "metadata": {},
   "outputs": [
    {
     "data": {
      "application/vnd.plotly.v1+json": {
       "config": {
        "plotlyServerURL": "https://plot.ly"
       },
       "data": [
        {
         "fill": "toself",
         "name": "Ronaldinho",
         "r": [
          3,
          3,
          3,
          3,
          3,
          2
         ],
         "theta": [
          "PAC",
          "SHO",
          "PAS",
          "DRI",
          "DEF",
          "PHY"
         ],
         "type": "scatterpolar"
        },
        {
         "fill": "toself",
         "name": "Buffon",
         "r": [
          2,
          3,
          2,
          2,
          2,
          3
         ],
         "theta": [
          "PAC",
          "SHO",
          "PAS",
          "DRI",
          "DEF",
          "PHY"
         ],
         "type": "scatterpolar"
        }
       ],
       "layout": {
        "font": {
         "size": 16
        },
        "legend": {
         "font": {
          "size": 16
         }
        },
        "polar": {
         "radialaxis": {
          "range": [
           0,
           3
          ],
          "visible": true
         }
        },
        "template": {
         "data": {
          "bar": [
           {
            "error_x": {
             "color": "#f2f5fa"
            },
            "error_y": {
             "color": "#f2f5fa"
            },
            "marker": {
             "line": {
              "color": "rgb(17,17,17)",
              "width": 0.5
             },
             "pattern": {
              "fillmode": "overlay",
              "size": 10,
              "solidity": 0.2
             }
            },
            "type": "bar"
           }
          ],
          "barpolar": [
           {
            "marker": {
             "line": {
              "color": "rgb(17,17,17)",
              "width": 0.5
             },
             "pattern": {
              "fillmode": "overlay",
              "size": 10,
              "solidity": 0.2
             }
            },
            "type": "barpolar"
           }
          ],
          "carpet": [
           {
            "aaxis": {
             "endlinecolor": "#A2B1C6",
             "gridcolor": "#506784",
             "linecolor": "#506784",
             "minorgridcolor": "#506784",
             "startlinecolor": "#A2B1C6"
            },
            "baxis": {
             "endlinecolor": "#A2B1C6",
             "gridcolor": "#506784",
             "linecolor": "#506784",
             "minorgridcolor": "#506784",
             "startlinecolor": "#A2B1C6"
            },
            "type": "carpet"
           }
          ],
          "choropleth": [
           {
            "colorbar": {
             "outlinewidth": 0,
             "ticks": ""
            },
            "type": "choropleth"
           }
          ],
          "contour": [
           {
            "colorbar": {
             "outlinewidth": 0,
             "ticks": ""
            },
            "colorscale": [
             [
              0,
              "#0d0887"
             ],
             [
              0.1111111111111111,
              "#46039f"
             ],
             [
              0.2222222222222222,
              "#7201a8"
             ],
             [
              0.3333333333333333,
              "#9c179e"
             ],
             [
              0.4444444444444444,
              "#bd3786"
             ],
             [
              0.5555555555555556,
              "#d8576b"
             ],
             [
              0.6666666666666666,
              "#ed7953"
             ],
             [
              0.7777777777777778,
              "#fb9f3a"
             ],
             [
              0.8888888888888888,
              "#fdca26"
             ],
             [
              1,
              "#f0f921"
             ]
            ],
            "type": "contour"
           }
          ],
          "contourcarpet": [
           {
            "colorbar": {
             "outlinewidth": 0,
             "ticks": ""
            },
            "type": "contourcarpet"
           }
          ],
          "heatmap": [
           {
            "colorbar": {
             "outlinewidth": 0,
             "ticks": ""
            },
            "colorscale": [
             [
              0,
              "#0d0887"
             ],
             [
              0.1111111111111111,
              "#46039f"
             ],
             [
              0.2222222222222222,
              "#7201a8"
             ],
             [
              0.3333333333333333,
              "#9c179e"
             ],
             [
              0.4444444444444444,
              "#bd3786"
             ],
             [
              0.5555555555555556,
              "#d8576b"
             ],
             [
              0.6666666666666666,
              "#ed7953"
             ],
             [
              0.7777777777777778,
              "#fb9f3a"
             ],
             [
              0.8888888888888888,
              "#fdca26"
             ],
             [
              1,
              "#f0f921"
             ]
            ],
            "type": "heatmap"
           }
          ],
          "heatmapgl": [
           {
            "colorbar": {
             "outlinewidth": 0,
             "ticks": ""
            },
            "colorscale": [
             [
              0,
              "#0d0887"
             ],
             [
              0.1111111111111111,
              "#46039f"
             ],
             [
              0.2222222222222222,
              "#7201a8"
             ],
             [
              0.3333333333333333,
              "#9c179e"
             ],
             [
              0.4444444444444444,
              "#bd3786"
             ],
             [
              0.5555555555555556,
              "#d8576b"
             ],
             [
              0.6666666666666666,
              "#ed7953"
             ],
             [
              0.7777777777777778,
              "#fb9f3a"
             ],
             [
              0.8888888888888888,
              "#fdca26"
             ],
             [
              1,
              "#f0f921"
             ]
            ],
            "type": "heatmapgl"
           }
          ],
          "histogram": [
           {
            "marker": {
             "pattern": {
              "fillmode": "overlay",
              "size": 10,
              "solidity": 0.2
             }
            },
            "type": "histogram"
           }
          ],
          "histogram2d": [
           {
            "colorbar": {
             "outlinewidth": 0,
             "ticks": ""
            },
            "colorscale": [
             [
              0,
              "#0d0887"
             ],
             [
              0.1111111111111111,
              "#46039f"
             ],
             [
              0.2222222222222222,
              "#7201a8"
             ],
             [
              0.3333333333333333,
              "#9c179e"
             ],
             [
              0.4444444444444444,
              "#bd3786"
             ],
             [
              0.5555555555555556,
              "#d8576b"
             ],
             [
              0.6666666666666666,
              "#ed7953"
             ],
             [
              0.7777777777777778,
              "#fb9f3a"
             ],
             [
              0.8888888888888888,
              "#fdca26"
             ],
             [
              1,
              "#f0f921"
             ]
            ],
            "type": "histogram2d"
           }
          ],
          "histogram2dcontour": [
           {
            "colorbar": {
             "outlinewidth": 0,
             "ticks": ""
            },
            "colorscale": [
             [
              0,
              "#0d0887"
             ],
             [
              0.1111111111111111,
              "#46039f"
             ],
             [
              0.2222222222222222,
              "#7201a8"
             ],
             [
              0.3333333333333333,
              "#9c179e"
             ],
             [
              0.4444444444444444,
              "#bd3786"
             ],
             [
              0.5555555555555556,
              "#d8576b"
             ],
             [
              0.6666666666666666,
              "#ed7953"
             ],
             [
              0.7777777777777778,
              "#fb9f3a"
             ],
             [
              0.8888888888888888,
              "#fdca26"
             ],
             [
              1,
              "#f0f921"
             ]
            ],
            "type": "histogram2dcontour"
           }
          ],
          "mesh3d": [
           {
            "colorbar": {
             "outlinewidth": 0,
             "ticks": ""
            },
            "type": "mesh3d"
           }
          ],
          "parcoords": [
           {
            "line": {
             "colorbar": {
              "outlinewidth": 0,
              "ticks": ""
             }
            },
            "type": "parcoords"
           }
          ],
          "pie": [
           {
            "automargin": true,
            "type": "pie"
           }
          ],
          "scatter": [
           {
            "marker": {
             "line": {
              "color": "#283442"
             }
            },
            "type": "scatter"
           }
          ],
          "scatter3d": [
           {
            "line": {
             "colorbar": {
              "outlinewidth": 0,
              "ticks": ""
             }
            },
            "marker": {
             "colorbar": {
              "outlinewidth": 0,
              "ticks": ""
             }
            },
            "type": "scatter3d"
           }
          ],
          "scattercarpet": [
           {
            "marker": {
             "colorbar": {
              "outlinewidth": 0,
              "ticks": ""
             }
            },
            "type": "scattercarpet"
           }
          ],
          "scattergeo": [
           {
            "marker": {
             "colorbar": {
              "outlinewidth": 0,
              "ticks": ""
             }
            },
            "type": "scattergeo"
           }
          ],
          "scattergl": [
           {
            "marker": {
             "line": {
              "color": "#283442"
             }
            },
            "type": "scattergl"
           }
          ],
          "scattermapbox": [
           {
            "marker": {
             "colorbar": {
              "outlinewidth": 0,
              "ticks": ""
             }
            },
            "type": "scattermapbox"
           }
          ],
          "scatterpolar": [
           {
            "marker": {
             "colorbar": {
              "outlinewidth": 0,
              "ticks": ""
             }
            },
            "type": "scatterpolar"
           }
          ],
          "scatterpolargl": [
           {
            "marker": {
             "colorbar": {
              "outlinewidth": 0,
              "ticks": ""
             }
            },
            "type": "scatterpolargl"
           }
          ],
          "scatterternary": [
           {
            "marker": {
             "colorbar": {
              "outlinewidth": 0,
              "ticks": ""
             }
            },
            "type": "scatterternary"
           }
          ],
          "surface": [
           {
            "colorbar": {
             "outlinewidth": 0,
             "ticks": ""
            },
            "colorscale": [
             [
              0,
              "#0d0887"
             ],
             [
              0.1111111111111111,
              "#46039f"
             ],
             [
              0.2222222222222222,
              "#7201a8"
             ],
             [
              0.3333333333333333,
              "#9c179e"
             ],
             [
              0.4444444444444444,
              "#bd3786"
             ],
             [
              0.5555555555555556,
              "#d8576b"
             ],
             [
              0.6666666666666666,
              "#ed7953"
             ],
             [
              0.7777777777777778,
              "#fb9f3a"
             ],
             [
              0.8888888888888888,
              "#fdca26"
             ],
             [
              1,
              "#f0f921"
             ]
            ],
            "type": "surface"
           }
          ],
          "table": [
           {
            "cells": {
             "fill": {
              "color": "#506784"
             },
             "line": {
              "color": "rgb(17,17,17)"
             }
            },
            "header": {
             "fill": {
              "color": "#2a3f5f"
             },
             "line": {
              "color": "rgb(17,17,17)"
             }
            },
            "type": "table"
           }
          ]
         },
         "layout": {
          "annotationdefaults": {
           "arrowcolor": "#f2f5fa",
           "arrowhead": 0,
           "arrowwidth": 1
          },
          "autotypenumbers": "strict",
          "coloraxis": {
           "colorbar": {
            "outlinewidth": 0,
            "ticks": ""
           }
          },
          "colorscale": {
           "diverging": [
            [
             0,
             "#8e0152"
            ],
            [
             0.1,
             "#c51b7d"
            ],
            [
             0.2,
             "#de77ae"
            ],
            [
             0.3,
             "#f1b6da"
            ],
            [
             0.4,
             "#fde0ef"
            ],
            [
             0.5,
             "#f7f7f7"
            ],
            [
             0.6,
             "#e6f5d0"
            ],
            [
             0.7,
             "#b8e186"
            ],
            [
             0.8,
             "#7fbc41"
            ],
            [
             0.9,
             "#4d9221"
            ],
            [
             1,
             "#276419"
            ]
           ],
           "sequential": [
            [
             0,
             "#0d0887"
            ],
            [
             0.1111111111111111,
             "#46039f"
            ],
            [
             0.2222222222222222,
             "#7201a8"
            ],
            [
             0.3333333333333333,
             "#9c179e"
            ],
            [
             0.4444444444444444,
             "#bd3786"
            ],
            [
             0.5555555555555556,
             "#d8576b"
            ],
            [
             0.6666666666666666,
             "#ed7953"
            ],
            [
             0.7777777777777778,
             "#fb9f3a"
            ],
            [
             0.8888888888888888,
             "#fdca26"
            ],
            [
             1,
             "#f0f921"
            ]
           ],
           "sequentialminus": [
            [
             0,
             "#0d0887"
            ],
            [
             0.1111111111111111,
             "#46039f"
            ],
            [
             0.2222222222222222,
             "#7201a8"
            ],
            [
             0.3333333333333333,
             "#9c179e"
            ],
            [
             0.4444444444444444,
             "#bd3786"
            ],
            [
             0.5555555555555556,
             "#d8576b"
            ],
            [
             0.6666666666666666,
             "#ed7953"
            ],
            [
             0.7777777777777778,
             "#fb9f3a"
            ],
            [
             0.8888888888888888,
             "#fdca26"
            ],
            [
             1,
             "#f0f921"
            ]
           ]
          },
          "colorway": [
           "#636efa",
           "#EF553B",
           "#00cc96",
           "#ab63fa",
           "#FFA15A",
           "#19d3f3",
           "#FF6692",
           "#B6E880",
           "#FF97FF",
           "#FECB52"
          ],
          "font": {
           "color": "#f2f5fa"
          },
          "geo": {
           "bgcolor": "rgb(17,17,17)",
           "lakecolor": "rgb(17,17,17)",
           "landcolor": "rgb(17,17,17)",
           "showlakes": true,
           "showland": true,
           "subunitcolor": "#506784"
          },
          "hoverlabel": {
           "align": "left"
          },
          "hovermode": "closest",
          "mapbox": {
           "style": "dark"
          },
          "paper_bgcolor": "rgb(17,17,17)",
          "plot_bgcolor": "rgb(17,17,17)",
          "polar": {
           "angularaxis": {
            "gridcolor": "#506784",
            "linecolor": "#506784",
            "ticks": ""
           },
           "bgcolor": "rgb(17,17,17)",
           "radialaxis": {
            "gridcolor": "#506784",
            "linecolor": "#506784",
            "ticks": ""
           }
          },
          "scene": {
           "xaxis": {
            "backgroundcolor": "rgb(17,17,17)",
            "gridcolor": "#506784",
            "gridwidth": 2,
            "linecolor": "#506784",
            "showbackground": true,
            "ticks": "",
            "zerolinecolor": "#C8D4E3"
           },
           "yaxis": {
            "backgroundcolor": "rgb(17,17,17)",
            "gridcolor": "#506784",
            "gridwidth": 2,
            "linecolor": "#506784",
            "showbackground": true,
            "ticks": "",
            "zerolinecolor": "#C8D4E3"
           },
           "zaxis": {
            "backgroundcolor": "rgb(17,17,17)",
            "gridcolor": "#506784",
            "gridwidth": 2,
            "linecolor": "#506784",
            "showbackground": true,
            "ticks": "",
            "zerolinecolor": "#C8D4E3"
           }
          },
          "shapedefaults": {
           "line": {
            "color": "#f2f5fa"
           }
          },
          "sliderdefaults": {
           "bgcolor": "#C8D4E3",
           "bordercolor": "rgb(17,17,17)",
           "borderwidth": 1,
           "tickwidth": 0
          },
          "ternary": {
           "aaxis": {
            "gridcolor": "#506784",
            "linecolor": "#506784",
            "ticks": ""
           },
           "baxis": {
            "gridcolor": "#506784",
            "linecolor": "#506784",
            "ticks": ""
           },
           "bgcolor": "rgb(17,17,17)",
           "caxis": {
            "gridcolor": "#506784",
            "linecolor": "#506784",
            "ticks": ""
           }
          },
          "title": {
           "x": 0.05
          },
          "updatemenudefaults": {
           "bgcolor": "#506784",
           "borderwidth": 0
          },
          "xaxis": {
           "automargin": true,
           "gridcolor": "#283442",
           "linecolor": "#506784",
           "ticks": "",
           "title": {
            "standoff": 15
           },
           "zerolinecolor": "#283442",
           "zerolinewidth": 2
          },
          "yaxis": {
           "automargin": true,
           "gridcolor": "#283442",
           "linecolor": "#506784",
           "ticks": "",
           "title": {
            "standoff": 15
           },
           "zerolinecolor": "#283442",
           "zerolinewidth": 2
          }
         }
        },
        "title": {
         "text": "Assessing Skills and Fostering Growth"
        }
       }
      }
     },
     "metadata": {},
     "output_type": "display_data"
    }
   ],
   "source": [
    "categories = ['PAC','SHO','PAS','DRI', 'DEF','PHY']\n",
    "\n",
    "fig = go.Figure()\n",
    "\n",
    "fig.add_trace(go.Scatterpolar(\n",
    "      r=[3, 3, 3, 3, 3,2],\n",
    "      theta=categories,\n",
    "      fill='toself',\n",
    "      name='Ronaldinho'))\n",
    "      \n",
    "fig.add_trace(go.Scatterpolar(\n",
    "      r=[2, 3, 2, 2, 2,3],\n",
    "      theta=categories,\n",
    "      fill='toself',\n",
    "      name='Buffon'))\n",
    "\n",
    "fig.update_layout(\n",
    "  polar=dict(\n",
    "    radialaxis=dict(\n",
    "      visible=True,\n",
    "      range=[0, 3]\n",
    "    )),\n",
    "  font_size=16,\n",
    "  legend_font_size=16,\n",
    "  template = 'plotly_dark',\n",
    "  title = 'Assessing Skills and Fostering Growth')\n",
    "  # Link: https://vecco-insight.gitbook.io/crash-visualization/plotly/6.3-statistical-charts/6.3.3-radar-chart\n",
    "  # See also (for pictures): https://community.plotly.com/t/use-a-local-image-as-background-image-in-a-scatterpolar/27849"
   ]
  }
 ],
 "metadata": {
  "kernelspec": {
   "display_name": "Python 3.9.12 ('base')",
   "language": "python",
   "name": "python3"
  },
  "language_info": {
   "codemirror_mode": {
    "name": "ipython",
    "version": 3
   },
   "file_extension": ".py",
   "mimetype": "text/x-python",
   "name": "python",
   "nbconvert_exporter": "python",
   "pygments_lexer": "ipython3",
   "version": "3.9.12"
  },
  "orig_nbformat": 4,
  "vscode": {
   "interpreter": {
    "hash": "ad2bdc8ecc057115af97d19610ffacc2b4e99fae6737bb82f5d7fb13d2f2c186"
   }
  }
 },
 "nbformat": 4,
 "nbformat_minor": 2
}
