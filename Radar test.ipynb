{
 "cells": [
  {
   "cell_type": "code",
   "execution_count": 91,
   "metadata": {},
   "outputs": [],
   "source": [
    "# Improved version \n",
    "import plotly.graph_objects as go\n",
    "import numpy as np\n",
    "import pandas as pd\n",
    "def radar_plot(player1, player2 = None):\n",
    "  categories = ['PAC','SHO','PAS','DRI', 'DEF','PHY','PAC']\n",
    "  \n",
    "  pPAC = int(np.ceil((player1['SprintSpeed']+player1['Acceleration'])/2))\n",
    "  pSHO = int(np.ceil((player1['Finishing']+player1['Positioning']+player1['ShotPower'])\n",
    "              +player1['LongShots']+player1['Penalties']+player1['Volleys'])/6)\n",
    "  pPAS = int(np.ceil((player1['Vision']+player1['Crossing']+player1['FKAccuracy']\n",
    "              +player1['LongPassing']+player1['ShortPassing']+player1['Curve'])/6))\n",
    "  pDRI = int(np.ceil((player1['Agility']+player1['Balance']+player1['Reactions']\n",
    "              +player1['Composure']+player1['BallControl']+player1['Dribbling'])/6))\n",
    "  pDEF = int(np.ceil((player1['Interceptions']+player1['HeadingAccuracy']+player1['DefensiveAwareness']\n",
    "              +player1['StandingTackle']+player1['SlidingTackle'])/5))\n",
    "  pPHY = int(np.ceil((player1['Jumping']+player1['Stamina']+player1['Strength']\n",
    "              +player1['Aggression'])/4))\n",
    "  pPAC2 = int(np.ceil((player2['SprintSpeed']+player2['Acceleration'])/2))\n",
    "  pSHO2 = int(np.ceil((player2['Finishing']+player2['Positioning']+player2['ShotPower'])\n",
    "              +player2['LongShots']+player2['Penalties']+player2['Volleys'])/6)\n",
    "  pPAS2 = int(np.ceil((player2['Vision']+player2['Crossing']+player2['FKAccuracy']\n",
    "              +player2['LongPassing']+player2['ShortPassing']+player2['Curve'])/6))\n",
    "  pDRI2 = int(np.ceil((player2['Agility']+player2['Balance']+player2['Reactions']\n",
    "              +player2['Composure']+player2['BallControl']+player2['Dribbling'])/6))\n",
    "  pDEF2 = int(np.ceil((player2['Interceptions']+player2['HeadingAccuracy']+player2['DefensiveAwareness']\n",
    "              +player2['StandingTackle']+player2['SlidingTackle'])/5))\n",
    "  pPHY2 = int(np.ceil((player2['Jumping']+player2['Stamina']+player2['Strength']\n",
    "              +player2['Aggression'])/4))\n",
    "  fig = go.Figure()\n",
    "  fig.add_layout_image(\n",
    "      dict(\n",
    "          source = im2,\n",
    "          xref=\"paper\", yref=\"paper\",\n",
    "          x=1.2, y=0.5,\n",
    "          sizex=0.5, sizey=0.5,\n",
    "          xanchor=\"right\", yanchor=\"bottom\",  \n",
    "           )\n",
    "  )\n",
    "  fig.add_layout_image(\n",
    "    dict(\n",
    "        source = im1,\n",
    "        xref=\"paper\", yref=\"paper\",\n",
    "        x=1.2, y=0,\n",
    "        sizex=0.5, sizey=0.5,\n",
    "        xanchor=\"right\", yanchor=\"bottom\"\n",
    "    )\n",
    ")\n",
    "  fig.add_layout_image(\n",
    "      dict(\n",
    "          source = im11,\n",
    "          xref=\"paper\", yref=\"paper\",\n",
    "          x=1.3, y=0.5,\n",
    "          sizex=0.3, sizey=0.3,\n",
    "          xanchor=\"right\", yanchor=\"bottom\"\n",
    "      )\n",
    "  )\n",
    "  fig.add_layout_image(\n",
    "    dict(\n",
    "        source = im21,\n",
    "        xref=\"paper\", yref=\"paper\",\n",
    "        x=1.3, y=0,\n",
    "        sizex=0.3, sizey=0.3,\n",
    "        xanchor=\"right\", yanchor=\"bottom\"\n",
    "    )\n",
    ")\n",
    "\n",
    "\n",
    "\n",
    "  \n",
    "  fig.add_trace(go.Scatterpolar(\n",
    "        r=[pPAC, pSHO, pPAS, pDRI, pDEF,pPHY,pPAC],\n",
    "        theta=categories,\n",
    "        fill='toself',\n",
    "        name=str(player1['Name']),\n",
    "        hovertemplate = \"%{theta}:%{r}\"))\n",
    "        \n",
    "  fig.add_trace(go.Scatterpolar(\n",
    "        r=[pPAC2, pSHO2, pPAS2, pDRI2, pDEF2,pPHY2,pPAC2],\n",
    "        theta=categories,\n",
    "        fill='toself', \n",
    "        name=str(player2['Name']),\n",
    "        hovertemplate = \"%{theta}:%{r}\"))\n",
    "\n",
    "  fig.update_layout(\n",
    "    polar=dict(\n",
    "      radialaxis=dict(\n",
    "        visible=True,\n",
    "        range=[0, 100]\n",
    "      )),\n",
    "    font_size=16,\n",
    "    legend_font_size=8,\n",
    "    template = 'plotly_dark',\n",
    "    title = 'Player stats comparison')\n",
    "  fig.update_layout(legend=dict(\n",
    "    orientation=\"v\",\n",
    "    yanchor=\"bottom\",\n",
    "    y=1.02,\n",
    "    xanchor=\"right\",\n",
    "    x=1.5\n",
    "  ))\n",
    "  fig.show()\n",
    "  # Link: https://vecco-insight.gitbook.io/crash-visualization/plotly/6.3-statistical-charts/6.3.3-radar-chart\n",
    "  # See also (for pictures): https://community.plotly.com/t/use-a-local-image-as-background-image-in-a-scatterpolar/27849\n",
    "  # Legend: https://plotly.com/python/hover-text-and-formatting/\n",
    "  \n",
    "  ### Comments ###\n",
    "  # The interaction part is a bit harshed. Solution: Don't have the area within filled out\n",
    "  # To do this, just delete \" fill ='toself' in both add_trace \""
   ]
  },
  {
   "cell_type": "code",
   "execution_count": 98,
   "metadata": {},
   "outputs": [
    {
     "data": {
      "application/vnd.plotly.v1+json": {
       "config": {
        "plotlyServerURL": "https://plot.ly"
       },
       "data": [
        {
         "fill": "toself",
         "hovertemplate": "%{theta}:%{r}",
         "name": "8    E. Can\nName: Name, dtype: object",
         "r": [
          77,
          74,
          76,
          78,
          84,
          88,
          77
         ],
         "theta": [
          "PAC",
          "SHO",
          "PAS",
          "DRI",
          "DEF",
          "PHY",
          "PAC"
         ],
         "type": "scatterpolar"
        },
        {
         "fill": "toself",
         "hovertemplate": "%{theta}:%{r}",
         "name": "29    L. Messi\nName: Name, dtype: object",
         "r": [
          86,
          88,
          92,
          95,
          38,
          64,
          86
         ],
         "theta": [
          "PAC",
          "SHO",
          "PAS",
          "DRI",
          "DEF",
          "PHY",
          "PAC"
         ],
         "type": "scatterpolar"
        }
       ],
       "layout": {
        "font": {
         "size": 16
        },
        "images": [
         {
          "sizex": 0.5,
          "sizey": 0.5,
          "source": "data:image/png;base64,iVBORw0KGgoAAAANSUhEUgAAAGQAAABkCAYAAABw4pVUAAAzUUlEQVR4nO29aaxl2XXf91t7OsMd3lSvhq7quZtNdVMkJYoybUtqybDjUZYdoGggiGHBduDEgWEnH2InX6pbyAc7SL7EQBDYCAIjCWCwkTgIZEm2LIO0LYsiTVGipQ4pkt1NstnVNbzpTmfae698OLeKLZomJbFeNxloPVy8evXw7j1nr7P2mv7rv+H35Pfk9+T35LtG5J2+gAcoX38v+o5cxbcp7p2+gN+B/G4W/N7ffNcox7zTF/DbEAHM9fFazb1/3/h3r12/7sX13/p3wnfBjvCdeIG/q6f6Lzz/aPkaExdOnP78Zz6z/hbv/Tt+/7dLvtMsRAC5/rUn+puKqsqNG8+7/+iHvnfvK4v4rny2em8ry+ee/8C7Lvz7/ub6dcyNG9+RDyLwnWEh3/SpffbZZ4Np7u6R014SuWjV7LtgK83M0LyD5olzZtdZrip2lpVoxHzROfOFMrjXjfVfseX0q3/pr/3N2x/+8IfTb/dz3yn5TlKIAnzgA/imOSx23KzOAzvJxUdTl66kob2omEessReDs1OUfdV8kHOeKsy8Y26MRTGgeuasvGKt+XyGz2djPq+qXy68vNFs4p2hurT81Kc+NbyD9/zvlXcyyjK8xQED8AH86u6lqz64Z7OmHzSG95PMU0qaJ/BO8N6JK7wxzlgngu36aGJMFs2gijOCCDOyfk/M8Ymk+mMx586KWbSD+Zx18tMTWXwUeOWbXss7JO+Ehfw7Tvv5971vt+tuP7FO+b2aeMqIPF559z3emaesCzNUiUOPoBgjeGdwxmJE6PqBboioZpw1FN6pYgSFrJmkmZgTWYWkeuqd+bh37l+6ovgXNpov/pNPffbNt1yL8A4r5Z1QyD2HnQCuX3823Pxs+8Nd7P9k38c/nVUfFzClMxTB4UOBFauoZs1Rc46gGSOCIDLEJDFnBCQ4SxEsWaxmFdWc0ZzImhkyJinirEFE3rDe/mI/pP/rzsnqX1z+ytHtj0HkO8BS3k6F3MsDMoDewPzg/37x9yXMTzjv36/IU0McHlNVm3PGIBiBLErhvNZFUIMwxMhivaGPAyJQOCuldwRnyQh9zhTe4YwhxqR18MwnJVXhJSlyd9Vxtmm1HeItzfmzaP7lnan/ucd2L/zqP/jYr51+g7V5W5XzdvsQAXjvJSbP/f36aeviTxix/4ki+yqCqpKzZlVyUqVPSfo4mM72xBglWE9KStslVt3AkCNVcMxLz6QoUGPosqIaxQnklCmsxRrLvCw0eJsxTkBMWq4v9ylfBp4Yki2/utpMfuj9T33iWbtz+vdGh6987SF625TydlnIvZsSuG4evfCP32vQv+Gc/TFr7NV2yCYqqS6cVIUX5yxkiDFLHyNd3zPEpM45qVygDEE3Q8/xZi1tP6gX4WBasT+vmdYV601H2/UEZ8QYg7eWw52KK/tzLl/c0+Vm4PNvHOkbR2dm1faxrsqz4N3LoQj/2Er4yM9/4jOv3rvu62BeGq36bVHK220h+vDln/4+lB8X5XlEH1bNQM5GFbIhpYiqimbQrBjAGUHtuIUhSs4ZK0Ll3eiMsrJsB8S0Ww8gWDG0fcKYjHrl7tkGQTjcm3AwLTDXLui0KvPRqnVR5SCm/EHAd30T3/vUhX/+mS/c/TUgfwTy9ql9WyzlbXfqj1+p/2tB/rIVHnbGeIvpRdQCVlVICimr5qyICMEanDWY0YtrztD1SVAwVhBr6GLmZNmgOTEJRg/nMwnOc3e50eAMe9OCVdMTnOW5xw544sqhHOzusu5yvr3q9OZpI6u2M13fsWma32y69mfE6f/wiX/71dffsk73/d95ynkr5OuSvit1c7T57wX5yxa8MxZvbXJGxaialFVTUoak0sdIBgrvEQxZM6oZRBARcoYhZRRDUoiqdMNA3/fU3lE4S1YQEYwdNemMMJsUevVgh2uHexK806TQJbSNKm1M0vSpb/v06qbrf6bdDD/3ic9+4RcYI8K3JbN/27as6x/6UHW7++qzrgrXrIi3anBWcNYYckZT1pQzSRSLIghDUnKGlBJ9jONWZYWy9CBCSpmYM4ihLDwi0A0Dy7anFZiUBVGVtkkUVnBGONn0nK57jpcb3Z0UUhUe5wPW+VzYkE3pgmr/zGrV7MbYue+5Onv1PTsPf+mll1/ueRt2lPNWyP0n6dZw+ymX+XM7ZfHu0gqlsyqCDmkwmzbrJkX6mCSPCTeqQk6ZVdPSDok+JnJWrBGqIeKtQVRIWVGFpBnVRGGUZBTN0PQDSZWYIzGCICjIqSa6YdBJEdR7S8wqe/PaXt7fEYON3WaQpllfGGL8A7P5zpdv0/3fwBe292P4rreQ69et+fwnnxD4odrbK5PgMMCm6znbtKyayKZLtMO46ArjYido+kifEilldBunDUZx3hK8o7CKQXBWsWKRYFBVUs7EDDFnohq6IRFTBjIkpe+UnDIgbIbIuuuJMZo6lDkm6IdoY05PDsn8GKb/zI0bvPLii+cfbZ2nQu6HutcgCPqQRZ8K1k5FhHUbuXPW8ObpStteZUi6tYKMCHhxOLF4I5TGYrwBVYwIwTuqwjEpHaU1lMZQOYe3HmsdxipJRwXHrMQMi6Zn3XWkFMkoWYwkRNuoSFI9O9vQNo3szma2LEr6mFDRna6P78s2v+tXP/roJ27c+NJiq5Rzi7jeDgvR13+D9J7aiBd8N0ROVgN3F42erVuaPtL0maxKYWAWLFPvqJ2nDoFZ5ZiVgToEULDWUpeBuvRMykCwjsI5yuDxoy9AjJBJDDGhOZNS5ni54XS1om1bhjgQc6YZkpy0PW+etdzZNCz7Xo+WDdWQCc5nK5hhGA6d+PceHaX3feqnr3wSbm44xyz+3BVy/Tr2zVdeObCG3ZTVnK5bjs42erRq6YeEFUGAabBcmZZcqAM7wTMrArOqZH9WsTuZMK8rxNhRIVWgKgKlDzg/KsIHj3UBYy2IoGRyTpicSTFyutywWC7ZNBuGvmOIkXUXOdo0fOV4xavHC750smLZJ5puwFmr3lismOCseUKRd5/2/jPA5jzX67wUItevY156idR99Zl6357+vlWf3rdp28mdszXHiyaJyrhyqO6Xnkf3Jrz/2gUOpwXOwKQsmdU188mEuqooyhLnPdaNSjHWYq3D+QIbPNY5MAYUdLujaEqQEnnocSGwO69JQ0uMkWHIDCmzbFqunpzohTePmPhCXjlecdLFnGNWXzgmkxIrZiLWzo0L9pzW676cu4XkblG0KTy5artrZ+vOnG16miFr6SzOGGonPH15n/devcD3XNllXnqyZsqipK5r6rIi+ALjHS44rLOIWMR4xLrRKpxFjEHHKAoREDI5GvLYH8FaRw6OHC0pJVKCpFDPMvO9XardC7jpEc3nXqO9cyzBO6xzGLGA7KFcsVGL7W1990VZL700XvSdLtkcu/2zdTtbrFv6mLHGiIhQOsPhtOB9j17mB558iHnlcQI5Ky4UhKLChwJjLGIEFUsWizEecQFxHsyYtej9AodsFSJbzRiwDiWhqkQcSQzqBMUSqsB0MpPqciYc3NWby0aOV0txVSnGWWICIxwY8kNaaLm9ve8+hdyTN5croTWhGaLvh4QYQ2EEi7Jbex6/sMOjF3c43JuSUsYoBG9wZY0LJd65MXIKAes94hyCxRg7WoaYcfFVQUCMwRjGiCxnctYxlE6JHBOmiMSYSKpIMcVNdnGzPSofCIdnfO7Lb/Dm7dtEa9CtPxpSdDkNPmf9rk8MWa3UxL4vsmavWSnDGKoazRzOap66vMel3Qll4Wm6AVGD9wFXVLhQYI3FhYAra2woEDtWggUwFkS2/a6cEYRxhxmtY1QIZIWcM8ZllIwMPWTF7+zjdi5CvUs1nVJduMSjj3+O119/nePVkgEQ59h0nenv1xjPV85LIfe7bjmrdeLnUeNESXgRSu8kGJEre3OeeugCs7okKwTvMTI6ahcCrghYE7BFhatqjBvLI8SIaGZ8XsePGgvBiiRFjbAtDY+1LFXEerJRco5IzhgDtqrw0ynZF/h6iis8Dz/5NI+/8VXi5z7LWdtgvCNoMirZqZpzh02du4WIiDrnB8kSRQ3WGLw17NUFB/Oa+bTGOU9GsNbg3Vhbct7jnMe4gPEOEUE0I5ph28bdfsD4XccSCqqjenS0nLEMo6CWcWfT7c/j+2gcUNOjRvCTKZcefZxHbr7Bmzdfp4kDahzGDFmMScnY9O+7zwcl556pT80kJSsLj6wNFqOKM0Z36kInVRC1QhJBxSDGYJ3FB4fddvrEOUQgpw4So1LSuC5qDBgzflAeFaTC2MGQfF8ZqmMJanT+iuYEOZGbNYM7RatIGnbA7LN76TKXH32U6a/vcLZek6xD1ChZs8v23Mvv55aH8JbygjXmftPICThntxlIJmtCZESTjF8GYwSsoAaEdP/pz7p9Yx0jKQNbS1HytkJsxhAL+JoyVBkvRXXcrhCy9aSUyc0ayYm83iE2BzBEPEIdKplOapJYNu26yilNnHThG9znA424zn1PTEW21uTaGinvQ3icoCiqGYNijGK+to5jgmcNarc9oS3mavQJFowD4xFrRyf/1u/Gfe1lHcY6jPWIDYj1iBiMcxhfgrHkFNGuITVr4mZNXi8xfcekCMzqmrrwlN6GYNhD4v7165xrcnjuTr2qbJFavWhh1297Ek7EWAHvnNbBi9/6h3HrH52yMRZjHCJmW/0FY8da1RhmCWLGMFdFRvNRfUv+IZh7hqqAWLIq2ncI4FxArUO3YIgcI7ndCO1KfW6ZTILU66Cp6ZhWpQypP+y64dFXfu3K5+HmXYAbIC8+YAs5d6du0jAx1h84MbU34AWCNZTbrp41BmNG/4HdvrDAmJEjZnyqjcWGEuvCuIWJguj4OxHkvrNW7lVlZNQYY4LiQMcSPTmNSrQGFYPK6BrS0DM0S3K/YlJ66qqkjVmnVSkxx4l38dGHjFz61G+OCjkPOQ+FvHVfFUTmzpndwhrvBKyqBmuYFl6q4BBjRwdiDeLc1zJvHUEOagRrHRJKTFFinN9m5WNDim1WbrY+QlVRY0elmO1oiBjUOERH0ETuW3LskQTi/FiQtBZFdegbSf2G4ETrImjb52wFA+o2IT0SfLgE/AbAy9evCy+99ED9yLkq5No1ym4TZ8lr5YpA4T1piKScpfaWnUnNfDYXa0cHLAhWxsXNMZKyIg6wDrt1MqP7Brmfe4z98pgiIjIGEGJQY1DG8Pbe+4qxaCjHC1QlxwHNCRMCLhT42Z7YYgLZEJsOYqIuC4rC4723tusvBN/v3LvR68BLD3jxznXLWi4pdoNWUaLLziFhjIIKZzmY1ezNp1RVTYwdfd8jkhi0Jw6ZLgkRAevvL5hzHmcNXsBbi7vXkBJDTiO2V2xAiWRJYzMq5TEQM2M1OOdMjD191xK7BkjYosDMLlAYSzHdo5zuQ359tCJbUBYl1nkbWe9kkel5rtm5KmQ2mxsn1mnCgCVnYVY4Htqb8vjlAw7nczRDihCjkoaWxbBm3fa0KdFlpY/QxkQXB6w11IXloCyY1zXTesZkOqOqp7hQIRrQpOQBchoYhp6+aWmahnZItDkR80DKEU0ZTWOU5y3sZ4Ob7lPv7uvB409z8+Yr3Dm5y6IZ2N0NhFBa4/q5DLm+d3+/8eyzDxwHfF5bFgCvp0X7uDtoKm/UW4uIMKsDl3anXNzboS6LsTcRx+5eGhLNEFl3AxFoY2SxXHOyWLJYrdCcqQrPcmfCwe6c/d09cuoxAsaHMYrKiayJODR0myWb5ZKz5ZKzTctp07BYL+mGMdIqXEEVPMEZ1kOiz5mH3vU+Ql2zf/EKt+4c8frxTYxz+HJihpRLxN7PRV544QV98cUXH+jiPWiFyPXr8JGPICIoN+nMVVZl6QbvLd4Ks6qQ3WmtdVlhjWHTD/QpMSSISUk4bBHG7afvWS435H4gbjq6bqB3FqsZjOBCYFKWTId+LK1Yi8aMoqQc6dsl6/UxZ4sz7iw23D5dcvvoDpu2wRjDfDJhZzqlrkqaZs365DZGRA4fe4YLF6/p/q275C++Jqenx9iyQ633Yuz9NROR79wWrm7bfy+9RP78//jXws//ra9M/+FH/41+7EsLF9UsPCZW3jtnBFHVnLNozmNUJAZ8wPqSifOIcTTrDanr2ZlOKX3BpYPLNOuWptnQdgs2m5ahH1EqAhgxuFBgCkNMA0NqGVLPultzslry5p0zzlYthSmZ704pigJjDb7wTKaTLbAuc3Lzy+pcYPfwIQ4OL3PxwgHHqzVN1xrjZaKSi2+5GN+GnMeWpXeOT3aChnf/sfc8s1eXX333J16/jUlDX9jSCUqMkRgHcg4YEYwLOOMQ6zGi5CGSup6uHVDjoQhgoPYzXLEiHXWkAdpmIMZtBq9jf96VJfRjDtKnxLIdOF51nC0b+kHZ37vA3u4O07pkiD2ZgSoUeG9xztEtT1nffZO9w4eYznc4uHCJVfcGy9XKerrprCie+Gc3/vPv/8BjT72y+5N/YykiD7Tg+MAU8sKNG8KLL461q9RfEcOfuLIze/5DD1987I3bJ/l22/cmpTrlRJezpDyMpRPrKYop6gsEZXl8hztvfJX1qmfRC0fqef1kwa27J1y5eMiV3Sn1bA/pNpwcrzjcG4gZcttC2ULwkAZSP9D2cLbOHC8jOVtCKMmTA7pqTggWaztMv6JZLNDSU+7tEZzgjJLzgIoVV80Fe6QaF6JxPb8wK3+8qvzTd7T7+7unpz+jqgsRyaoqD2ILO5coS2wl1ueyKsvH3lVWl99/+6x59egsd9YQ48Cm6xhSREWwvsAWFWoDpAGDxYqjKh1aeLroMXfXNGdr2DtgUtTsVw7pSnJO+FCMyMW+I/UtrqzRfoAh4cTijMfo+L1PmZt37iLHC+Zl4NLejJ2iJKUVooJ3YawEGEFTj1hDqKeSVFWHnoNpGa7tTC4H0b2hW//slxdfkUd2dx/o2j1YhYy5neZ6Z+2tvj6vilsmxcs/+ExX7d28ra+cnuqd1VI2bSNDTKix2KLE+IDiSDFRlXMOLzkQQ8RyYbC4PhMWZzy8M+fh+Q5T6bE7M4w3zOcTRJXUD+R+gJTQYcCkxCR49iYV+9MJC4V2sebWra/QdIlZPaV+97s5mF/Aak858RTVFFtUYMd6mbWWUNUISqFJH7+wa67tzQlGZWiW+dM//7/FR/7Sf7e1igfTUHxwW9b2JUBwtdqQsxqj1nkuXnkIJlMtTo6NvvpFUmyVnAQB6yzGO1Q8RsAXFbPDy+ScyUnZV8PutObJqxcovMcbQ2wWGCuUk4LCCibGEQixnSnUnBAFJ5bZdM6Vq57ZyQm7k5qLly6CDdT1jCtXLrO/O0X7CUXpmezsYoyVUNWEoiZYoSprfWhvlySdPHz5EruTOW3bmazJX5yJ54UXxsrECzdEefFeKfN3LeeyZRUFZGNFxYjxnmrf54uzmdr5lOOzIxZnR/hx5gOxY1NKbADncKHC19Ox+hrHhd3fnfHI1Yt06zXr5YKF9IhAVRb41GNSxGiBKJDSdkkMBsOkqrlcTVkHz7DbE2ZzyumUop5T1jU+OMgHGOdwRYnmiHMFPpQEZ5nPd7l68RBTKQcXLlL5gq49E6tDMTm6XX+UX1nwAOdGzkUhy3WSaW0lVCVFWbIyg3gfdEdEr1y4IFOnMqkqnHVjnck6bFFgUawLWGdR78cyR9+T+zgi2oPBT0qmbh+TBwoiJEWyIvc6WDmj2G0xEUpnCEWBlX2GpFRVSTmpCdM5oZxgixLrxy1KUyT3nZptgbOsJhxeKcUs3tBoB/x8L7tQmTo50y1PpjdfPZpfvnzx9oNcu/Nx6puFz7ipqbw32UHfjUjzYWBeFoT5jCIUGOOwYnEITmSLSDSYbVNKc0RSR84DhoQxivMGbwJERbbjBttPHfu3aRxl0G1fxNnttjgrSWIJ3hLKglAFXPDY4JEQUM1oZOw8GjP+rXfMiop+OqVdFxgrqpKxokKKRbvsqk+2zQNt8j1QhYzj+pCHkzK25QXtiypLJp6catMOtDnhRXF1NXbxsDix2KzYlMamlCoSB0g9EnvCEEc4aM4kMtEoCYgJYh6VMSIWxzaxZhkNRQSxDpGEYRzeEV8i6Ni3B5xGTOrI3RjxMf5OsG5scIlgrMEZEVLUfnlCcB7tO3TonZHCTzanAvDSyy/L9QdQ13pwCnnhBdVtXccXVSU+HBpfV3HI3Hn1NVk1a2UyQYoRLci9TiBskSR5vJ2UQRPEDtKA5G3b1o6tW3GKk/H/UjdgbMLoWDbZNupH3K9zJNn2VvA4O6JZjLEIo7WSEmr60bKsBe/AhRFYYcYgQ1Orm5Njjl55DdNvuHjxErtXrlIfHuiV2UHe3Ud56eNc39aM7qNgfpdyPltWqArB7GgkdG3H6viIVdtQOItz5X3Awr3nO+eMSWks+4oBTYgKiMd4Czoi5IlpCwHSLVhOMDJ2HcXZsdtozDjA4wtyOSXlOPZBdPQvxnqMGO7tdDnr+L5p27cXDxhEQdMwtgY2GzYnZ6TbN5lkZefiJdzunPmTj0NxCDy4AuODU8hbngwTxRhNfnN0ZFK3wQev06qSav8Cbe60jwNlGutQKWcxmskpIj2IC1gbMKXfbjlbVGLsSMOSYb2gX6/IfQ8pYzEYP4KvcYHsAqKKLy22nhP7hrQ5I7YNeRjQWgn1BF/PUDEjzHTcgtCUxlZwzuTYoU3PMHTiy5rp/iVt12skK93pKUaMz7NleGY+PisvMTasvl05FwtxgKSsq1u3SO0aX5bUB4fUly5x+85XWa/OqKsJKSeSJmzOqGRUIuioCBNqcB5NPRpbhrZhcfQmm5O7YxbuPL6ox5mRUOKmu9jJDBPGEoxRJaHj1fSW1DV07YZ2fUa5s8csXMVU0xFEoYqmiA4D2ylTco5EjfRDh68rZlev4mODiz3DnTtISqXd2Zn8xhtffqAolHNRiMHmHLvYHt3NuWvwDz/M9NIlqgsX4eQ2bdfSDS1l6ijG/oVmTZg8NtNVhDwipkl9S1yfsTm9w53XX2V9csRksks928NYhxg7QkynM6SajBYlisaefrVgaBtiPxBjpFsvWZ3doVydgvNMDh2+HPtNqnnc3mIPRsby/dDS9Z2aMjC9cklDbNXduomeHoG1hbRNtUr3oFQvAR/+ttfuwSlE9f621fYbdZCml6+o1cymroh9z/rkhJQAE1gslmJdoJ7sEmNEs4J1gJA1I30DCrnbsD65w/Ht1zm+c4shRuoLE1oxHN+9i1hLOdkws1BPZ3jnafuG5XLJ2Z1jTo9OaVZr9nenTGs7PgzHt4g5cZgTs4NLMPTkbkNsN+SuU3UenJWYBoa+xRqPaXpxQy++COj+Pmm+G5tQDdE+2J7IuVjIZthsKlPc2js8bMq6Ak10Su42G+vE4UPJ+uwu3nv2DnpUISJkM1ZgrTEIFnIm9R3Lk1ucHd+mjwO2mGAnOwwpc7o+RoxQxI4udoSzEmMtTduyXq5YnKw4uXNGs1rhzEMU5S5qPX27on/zS1RVRbAjjCh13WhNmlFrkbIiqpKGDlKLDIlQ15STmiFntCzX6+DOytXyO7T8/sILsg1jdbi9eNPMyk/mncn3V3vza2l+kMuUcnt0V9TAMKw4PWpNs1lKu1kQQgkIbVQdwdhOjB3ZG2Lfsm5XZM3M9w8pZweEckrqB8qqRnMkJ2WxWLM+usuyWeOMozQe7zyHF/fgwg57u7sUocZaS86JfnlMszihqSaYUGpOmdi3EnMeoUdEEkIaMvQtvqyYvvt7pfIFi1s36bvuJN09uenLRwaA67/xrD6AHeuBKkTZ5iFHX1wfHT7HL/UizzdZ31WVZVUbybZrTIot69WYh3TDwGazHDNyMaQh44yFUOBMiRpDEku2HvUluIJBhbPFglXTcLY4vT9Vm3MmkomSsSqs1eDEEpyjCgXdMOCGiA0eV03Q1IEosW8QHQd7hqEn5kgWxWpPFodmg1XNznmK2cy4UMOm3VjffLX59dfu/nzp0nYB7t//tyMPTCFvbc58+GMfW/ExfvUTf/uvfdy0/fdcajfPFGVRdNv5DlVFjNek0DQbEVFx1hFTViRQmALjA9hAVAO+J7mxp542x9thzQ2nywXLzZq+HzAizOczdvZ26ZqGxWpB3/Y445jVU4aoxJwpZ+PwaDHfxRXViDFOvcSUGeKgfeolacImp2ICxoy0G84FTN/aQeldXb1KWb76R/7O3zv7Rvf/7cgD9yGqW4ADQLHzszHHeHZ28udkZb+3i7FerFefPzo5WbXD8GxVhKnmMQeJoDkrxhpCWWKcpRsGVqszjk7ucnp8RE5gzDiIaYGdLUjhHjbPFyWuKAni8MahEyXFMfFsuo50ekw6SxTBsDOtqMoKgKxZc04kHWTTrRli1CKUFIUR7wsKb31lwccNR+vFG9EX/0it+zyMWILtTX9nKuSt8oP/xX/7uY//vRvr7uSoFudviTXzxWr16TeP76ac89WpNdNttYOUMiklsipiLDEONM2axeKI45PbHJ+cghqKsmI+mVGXNT6UVEWJdx5UiVnphkQ2DuopxljafmC12WCMEmPP8eIEa5VhmFMXBWU5jskpW/aHrtV+GCiLGrE2RrRbd22jmruWTJP515vC/uM4869/ywX4XcgDV8g967hnKc3TvGn/tf6v9cT9w6bd+CxmvU7pPTNf/GkfwlVjLKjRnFS7rjfOtLTFmi4NLFZnLJd3WTcrmqEnJcjWcVAH6vmM4CcE4wgieAx902FjpCwqiiqQjdBqYjdOEZR1s2YVG5bLU/rbt6iCowqByXS6zT0gxiGTVaazufH17KxRefn4+NYvv/HGnS/sXbysmOrz4fHHfu0PfnrR3e+jf5v1q7fKuaPff+zHXozAnbf+39/+8z+yF3w+E5GsOZtxtGCcbhriQNNu6IeOvm0gK8EHJqUlDmC1YLVIiMnM90tMPcVWFaGoME0Lp2docKTC0adE2zdshiWb0zNOj0+4e7KkaxsqL3T9GC4XsSQBQ98ThwFrLHVVIGV52mX7qxsxv/CJT/yzl6888RyS7elf/5t/twHQsVv4QOXcFLLltBwv+IURkXKvvfnE5Ut5sT4+y2g3DEPlQynGOrXOqpLphpbYD0KGIkzYMzWz0pKjo+uExWlHSgk7MaSdCWm2j8x3iV1H52s6MlkzXdexGXqWi4Hbr93l5M1btHlDWcC8rjDOksgMaRyV7rpGNUWMd+K9QZwcV7b8t5cf/77/9+/84v/yZX7xUwDcs4zvaKDcN5L729e2Gnrjxg3z4osv5j6ntijC3dz2i03TVdZ5irJU772IMZJTRsVgfYE4obKBIkyoihlIwWoTGbad2vTmEe3NIxrraYeOtlnjvUOspR8GVISJr3nsyjUeme+SaEjaYtzApK7xziNiRDWiOau13gRfiCLErKvp7u4XJ+/64ePfel8PXhH35G3hy7o31v/cyy+Pg8xJ+7KqjjZdXHTDcMm1LRih8GOCGGMC67Fh7CgWRcV0Mmc+26MoJwxRWK9a1kcLupMF3XJDP0RM3+GGjlAW4ySvZtykpprPmMzmFETURtbdkmVzyqRyWGOJORHHmg5lUYoPhW76OKjEW3sHF770yLvf3QB85Pp1C/Dhl146t2ncd4T73VZFDsGeta5dKYa270FEnfWqWWn7gXISpCwKlHF+MGqmiYk09EgaCDYT9mrM3g42W+gScdPQrxuMBbwlmwyFQ0pHTi2KYCe7hGFCWBWQ2m00t1JNWb2zGorKGu9j2w9vqDafXe7Gr7Bl4f7wSy99107hflO5cjBP/ZDXsexbEyNnqwXrdoF1fgQ+bJPHnBWxI41f13WIGQuOVraj0TGTjSFjccWYm5TWgSjJZkQyiY4UW8ToOPteeNRl/BBoNx2bfmDddFgRfF2pcxY1JveJM7Fy9J73fLjfXva5kZa9Vd4+hShjhfolKGSSjW82YT5ve+84Xa44Xqy1KCvZmU6lDF5FM0PfY8NY08qxQ7MgORN8gKGnXy9o2hUxR1wosRKwWFTGUnrOY24jwLSeUwVPih3D0NIOHcuuY9319H2i9A4VGYdARVRc0auv71vEjRvIiy/+/0khb5EwDUnX3aKcTNepCOycnnG6bmXVDlpWmd2yBCxRx1J81yfadiQdSzmxM9sZ0SNVRZ9auk3HZr0YIVlZyEOHEClCoChr6nqKKwJZlHZ5xunqjOPFCX0/HiESghdrrXZZCRhcKCn3Loib7t4Pa194AX3AoyDfUN4RhcR2oyaZdZiE1haBC/sHnK5bTjdLNt0AYrDWoVlpYqTtejZdS9/3ZFXqqqIspgQ/G59otfSrM/puZKnToSUYqHxBWVTUkx1cUTDEgfVqwenpMaeLJcYYyrLAeY+IMGQlG4cvKurpjql2LrwthDNvlXdEIW+2a901k2EmJlojXNjb5WzTcHe15HTTyFnTszt1ILDZdKzbjhQjXRzPAdmZdUwmU3w1IVRTymoHjyfoks52mGpCVVXM9/apZju4oiSmnti1NF1HP0RUDN57gndEFURHxgnrPN6X+O2IxNfkHkbmfOUdO2Enp5g15yzWUZclO7MZO9MZ677l9skZ3hmqLTtoN0Q0pe08uzAMkZgUsQXOWkgwq+cEcSQdUSaurKhnO7i6Qo2h3/T0MRJzAjGEUFCEcWi035LiBB8oy5qyqLHGSI7nz4/19fKOKSRllZSzjMVEw7SqeOjiIa/fuaO3jk+oSy/GOFLScSA0Jeo6EEJgSJGuj6SkkAbyEPE+UDiH85aEIVuH3eY1KY0nLLRdT1SwzlN5wVk79lySYI2TqiilrmqKohCDGE39W1CJb49u3hGFXAAGIiZnJCtqDaGquHR4yLrt5O7dI+6crOiiMCShj4lN19OlPM6uG0vdNWxWi5E4pu+RlPBGkAR9HohxwGlGO6UdWs7WS87Wa5o+oltgXacQh0QXZbtp6TiFZY2oaKka7w943m8pnLO8s0evbsFrWIvzBbtFxcHehpu377LYdKz6xKSu6VNm0w+0fY9qpiwCTbNiLRbJiRQHVEdKWDPiEhHnKVJNTInVZsVJs2LVNCOXrwiSlSFnkoJhzH2MuccingXNBeSvZ/85d3nnfEjMJg6D8cahdiQvc77kYO8CD19r+exrr3B3cYZYR1ZhSBmLEodI27Y0mzWlGLyxxNiz3ixYrZZ0XcNsOmNnvo8aoYsDJ8szzpolm34giqVPOipGlSIE9udBJpOKsihVVei7aKxPwdh87rSwXy/vmEL6NLiYC5u2aMERKK1UZc3lw0vcOj7idL3ieLEkY1Dd8pm0PbLakFTpupZ5VWNF2bQb7pydcPfslMtxwDhLr4l2iJyulizaDet+oEmGPimaFWcNzo49kWlVU5TVyBqUFZIGkoaPfOQj9usOpDxXedsU8sILN+RHt55xselEEi4ntVkVuyWNGWLEGqO70xkPHR7KcrPitZt36WKmLCtAaIbMJq052zScFJYru3NmZUEzDJy1HTfP1rhQUJYB06xph8zZpmfZDSy7gcVmQBGqIjApA9YIdVnppKrUhSCIISliUI9q8cEPHnq2tay3Q94RC/HtRCh6GWlfA+ILjDhSVmKKxKHnYDbjsYceokvw5vEpy/UGYx3OOtohcqaRI8l0fc/etCKnxCYm1DqWfeSN0wVRhU0XWTQD60FHeo0uUgZP4R3eWeqiYFLVBF+MKFIUERWn4hDjh3/1egDat2tt3hGFDJu1+sIjxop1I5ZX1aKSiDHS9x2l91zc26fNShahaW/Tp0hMI1PDEAdyGoiaWTQt1gjtMNBnw/Gm57SN9Elp+sSmjzSDkrJigSp4plXB3mzKzmxKGcJ4ak/KZMYjlkBdzik013bfOpBz7gXGt00hz738shw+O+Jg46v/PJryR2AyFSuQU9wCr5WkWbJAjBERuHThEDWOnOH1W7c4XazBufsjDXeXLafrDmctMWXabhjjJIQhj99FoG1HIPWsDuxMS65dPODKhUP25nOsKHHoBWMQEZwxIimFqMn/+o/+8P0C40c+8hHDSy+daz/kvLOde+9//6lSVf/pX/6XT59+4hf+46pf/fGJpPerC3TiUjbGDDnJ0Pf0fUtMEfWeTddz9+SUL9+8xc3bR5xuxoZUZoyWsireemLOdP2YjUdV+vi1g8WMJqZF4OFLF3jq2lWeevgh9ua7o3WoqrEG5xzeOgofpJzO6bv4s81X7v6dq7/06U9e/emf3sDYpPqNZ5/VF0eShAduLedKgnnjxg25fv36bzkb/TY86maHP+J2D/9oL+651WJJs1qTh1405ZEp0XoV41Ag9j2Vczx6+RLPPfkk737yCS7uzplVBbOqGgnGQhiJ863DOItxZsvsN05jOckcTANPXNnnfU8+zjOPPcaFg4vUdY11juwK1BUY58mqOqSoiGDb+K7pSfNnT689/sy9699SMpkbN26cy8N8bvRMOuKA7pv7X4Xp9/3xH//9X/l/fuZPTffKPyCb06e13/gsMs5ZZpUxLROMMTjvR0a4OCCANZb9nR1CKJlWNafLBavNhmXTsmwaThcrcs5U3tJFxSgUhaVwlt265NErhzx25QoPXXqI2XQ2kpkxnprgXSGGcYQhD61m49jEqBNfXZkcXP6TR2Ez/em//rd+4TORf/rfvPjiEfeOj0W/1l3/DgXK3d+ijBG4ft3+xdmsfu7y5fnuxz/53pnyZ/X0zo/XB1cvu+aMrlmqLSrFWBERGTlEtyOcxuL9CD3NOp5LFZxjbycwqWrWbcvZajkqY7niTnGXtu8AMx6dlDLOWerg2ZtNeOShK1w5vEhVTZB7Psr4kbDZWSRtT+OJScQK3TCwM9mrJw8fPnX6la/uha67NHOF/od/5ac+9dFf+Nyt4y/8HyszmqC85d6/g4Y+b9wwvPyysO07q8KlIh5E+JDL6U/MHrr6A/tHp0+UTTNvujXD8jjTNZjp3IrxqBjNeeRzF80jak0ghJENKSt0QySp4nzBzt4+04ML9H1P12xoH75Kt21ijXRa45h18J6iLCjLGuccfRzQNAYMPhSIseS+V8ljgmqsE6zB9oMOB5WuHnuCout2J2dnzxvsew90+XGdtP8nfPAXlE8ejZZxwzz//A3zsY+R4dvzLd+uQr72dLzwgnJ/i5odcOHyc8/UD3/wypVLH3x4vfr9F4b8yHzIY6nDO5UcEY2CbKlauTdTrfdhj+PREyOhPsp4fFFK5JywZIILeGepgkOnFTmOxUcYiQT0Htv1lqU05UTfteNcbhiPRzLGoMNIhimMpy2ICsSe6CDuTtU4b2dJZk+XYfam9ZOHH7vmp4cX941+7y9/yU9e5ude7EZl3FuTG+Z3q5hv06nfELhueP55c4+8WFWFvYs/YMT+l8GW/9Xu7oU/90gyj1w722RzvIgpm5yrKbYojTFWUlLNio5z4vdYkI3eSwLZ3pUY2RL0O2LsaTcr2vWSvm1IOYEIoSyZ7+wwnc8o6hGwnTXT9x1D34zjcUOPquK9xzt77wys7U4pgqKSVTVFyRol5d6kbkhh1caHz071EecOLh3u/9n5rPzrJvOTl9LwNDdu/JZ1fP55zDaY+R3L79RCRkLdexDKF18cn4qPjb/c/6N/5tqjf+o//TOTK0/+B8Py9EMWe1hYT98NnJycysmtW2Zv3UoppaRijxQGdffB8iN7qFiH9U7Mtls3xJ6saeTW2tLAqhqGmNHYgoC1hmILjjMWNI2XmYbI0HUj5kpGS/GhJPgRj2XuccVvC5ikCNtzFHNWTZrIRPGlN84aXb15S8t6Io8eXmazdk/01v/Jmdhr84/f+TR/+K/8SjWTf/OZf/Q/3/7Yx16M91dMVXjhhXtcYt/SYn67CvmtDmtLVAY3zKX3/utqldMU0xyaRf5QrLqfFB/eb2xhSZCzDmsXpI3RnJ7cNvXJKb7NDOW+atmC5pFKQ+xYNrcGCQFr/LgfiiGmfpxPl/H+RoD2SLScU4QEkbFYGO32SNa+J3YdQ9+Rt0RpYh1FMSrEu3G7Mphx/Foh3f+MLfl/SqSctCq8RGdldeduNoc5XZo/ymuWoDE+WUyrJ1XzByLpo11v9p7+M//Zr0iV7uSTYvmFn/u7HSLKjd+S731T5/+tFXLPWT/7rPJTP5XfivR+4gMvz88I3+fy8IcMO39Qoz4Tu/4gD2pSH1PqBxmMcenqw9iDHZH2VLtbNzHHZwzVLtKt0NWtbd6wZWKwFiNjN0/EgLXY5IgpEdOA5AEXHEZHXvgUIyn15BTpukxKAzmPZfoYO3TLe1WEgC/K7XEYYfzZ+fEkBhlPd8sJ1IpIHrnoNSZiTDpgdMCybluTESa7e9p1X8jLo1vs7M0Nrri6WMafkKw/4nv5TXr3T3KSnwd+fXyA3+Jfrl8328DnGyrlWyvk3ra0lUef/wul35tfTcvV45vl0fcade9xNny/UZ4zxvs8RMhJjXUsTpZydLqS/NhjzC5ewuVEfuUVmi99mfDENcQn4vHrI5Nbae4Txpgth7sYwY1bGDYrJkbEdujQkbdUHNk4UlSGYSzBdMMwPtkpj4cZm3tgBj+eZ+Us3lmcsxhRJKctA/b2MxkDChCMD9hQoZuWdHJCigOEgCkr+hhZLxfaNWstJ3NX+LA7xLg79PFKUZcT57ny9B/7y7/UD/m1tF5+6fWPv3QMKN+i7PI78iEHf+AvzgYdnjJt+tGo/OGU8w9j/My5CquCxqhD32RBxVWVvXvrmC9/5Zb23/9+5g9dY5ep3P78K6xefpn9H/gAuYTN536VpIJnG7LlsUiVUwQj40iyc3hjcSljB4dpYRg6UkxYKzjxGBH6XuniOFKg296594EQCrx34+nUzmLN2FuR7QFVGcg5jYwRyjbCc9hqgq/nwtEx+fUvY5xR6ooOQ5cwTddzdnqiiETvS23azg5Ry6K2P5RJHxCxf9pZfk6mk589fP6v/uKdj/1Pq2+1xt9UIc8//7z7nLl6Nat/KgT7rCR5Jqt7umu6K3EYrsbkZhaLqCHlPFIliTVFMfYujs/W+upXb/FGu5bDh68x+dAPkT/3Gewv/SvMj/4o/upFzDMfRE9vMnQrbBHuE8iQE2SDiB/RJnZEnIh4SAErQnZ5O/CfMeZryJEYI1kz1vrx5UZlWDFYsYzufBsVypaFThnpas04Nie+JrmSrk/oq6/Sv/YqxXPPiBzss1w1DFFVxct60+GKxtQTh3Fe0MjZ2SnGUAVnnizL+ifEmPfSLF+2f+jP//o6D5+WkD6/+KcvHX+jNf+mCrlz8aIZbufDYPlelD+C8PusLQ9iSuQkI0uf5ozVnHI2UVWsMWKNRRA9Xaw4Xqw46RoWuzvwrmfIL/8K5rUvwq1buIcfxl59krZfE9en2CLcx/Vy75wouWc6YK2AWpJ1GAXdHkIsaSSkMcaAGmKOo5LE3T8KwxrBIve/AO6F6l87y8GMn2Uc+EAWNwLv7t4lnhzhZzOYTMZ5xbFxr1uYkvisIs6pxJiXi0V2xkjY2XEhVI9heEza1fs0548KedlnbgLfUCH/H/0DKYVYryjXAAAAAElFTkSuQmCC",
          "x": 1.2,
          "xanchor": "right",
          "xref": "paper",
          "y": 0.5,
          "yanchor": "bottom",
          "yref": "paper"
         },
         {
          "sizex": 0.5,
          "sizey": 0.5,
          "source": "data:image/png;base64,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",
          "x": 1.2,
          "xanchor": "right",
          "xref": "paper",
          "y": 0,
          "yanchor": "bottom",
          "yref": "paper"
         },
         {
          "sizex": 0.3,
          "sizey": 0.3,
          "source": "data:image/png;base64,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",
          "x": 1.3,
          "xanchor": "right",
          "xref": "paper",
          "y": 0.5,
          "yanchor": "bottom",
          "yref": "paper"
         },
         {
          "sizex": 0.3,
          "sizey": 0.3,
          "source": "data:image/png;base64,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",
          "x": 1.3,
          "xanchor": "right",
          "xref": "paper",
          "y": 0,
          "yanchor": "bottom",
          "yref": "paper"
         }
        ],
        "legend": {
         "font": {
          "size": 8
         },
         "orientation": "v",
         "x": 1.5,
         "xanchor": "right",
         "y": 1.02,
         "yanchor": "bottom"
        },
        "polar": {
         "radialaxis": {
          "range": [
           0,
           100
          ],
          "visible": true
         }
        },
        "template": {
         "data": {
          "bar": [
           {
            "error_x": {
             "color": "#f2f5fa"
            },
            "error_y": {
             "color": "#f2f5fa"
            },
            "marker": {
             "line": {
              "color": "rgb(17,17,17)",
              "width": 0.5
             },
             "pattern": {
              "fillmode": "overlay",
              "size": 10,
              "solidity": 0.2
             }
            },
            "type": "bar"
           }
          ],
          "barpolar": [
           {
            "marker": {
             "line": {
              "color": "rgb(17,17,17)",
              "width": 0.5
             },
             "pattern": {
              "fillmode": "overlay",
              "size": 10,
              "solidity": 0.2
             }
            },
            "type": "barpolar"
           }
          ],
          "carpet": [
           {
            "aaxis": {
             "endlinecolor": "#A2B1C6",
             "gridcolor": "#506784",
             "linecolor": "#506784",
             "minorgridcolor": "#506784",
             "startlinecolor": "#A2B1C6"
            },
            "baxis": {
             "endlinecolor": "#A2B1C6",
             "gridcolor": "#506784",
             "linecolor": "#506784",
             "minorgridcolor": "#506784",
             "startlinecolor": "#A2B1C6"
            },
            "type": "carpet"
           }
          ],
          "choropleth": [
           {
            "colorbar": {
             "outlinewidth": 0,
             "ticks": ""
            },
            "type": "choropleth"
           }
          ],
          "contour": [
           {
            "colorbar": {
             "outlinewidth": 0,
             "ticks": ""
            },
            "colorscale": [
             [
              0,
              "#0d0887"
             ],
             [
              0.1111111111111111,
              "#46039f"
             ],
             [
              0.2222222222222222,
              "#7201a8"
             ],
             [
              0.3333333333333333,
              "#9c179e"
             ],
             [
              0.4444444444444444,
              "#bd3786"
             ],
             [
              0.5555555555555556,
              "#d8576b"
             ],
             [
              0.6666666666666666,
              "#ed7953"
             ],
             [
              0.7777777777777778,
              "#fb9f3a"
             ],
             [
              0.8888888888888888,
              "#fdca26"
             ],
             [
              1,
              "#f0f921"
             ]
            ],
            "type": "contour"
           }
          ],
          "contourcarpet": [
           {
            "colorbar": {
             "outlinewidth": 0,
             "ticks": ""
            },
            "type": "contourcarpet"
           }
          ],
          "heatmap": [
           {
            "colorbar": {
             "outlinewidth": 0,
             "ticks": ""
            },
            "colorscale": [
             [
              0,
              "#0d0887"
             ],
             [
              0.1111111111111111,
              "#46039f"
             ],
             [
              0.2222222222222222,
              "#7201a8"
             ],
             [
              0.3333333333333333,
              "#9c179e"
             ],
             [
              0.4444444444444444,
              "#bd3786"
             ],
             [
              0.5555555555555556,
              "#d8576b"
             ],
             [
              0.6666666666666666,
              "#ed7953"
             ],
             [
              0.7777777777777778,
              "#fb9f3a"
             ],
             [
              0.8888888888888888,
              "#fdca26"
             ],
             [
              1,
              "#f0f921"
             ]
            ],
            "type": "heatmap"
           }
          ],
          "heatmapgl": [
           {
            "colorbar": {
             "outlinewidth": 0,
             "ticks": ""
            },
            "colorscale": [
             [
              0,
              "#0d0887"
             ],
             [
              0.1111111111111111,
              "#46039f"
             ],
             [
              0.2222222222222222,
              "#7201a8"
             ],
             [
              0.3333333333333333,
              "#9c179e"
             ],
             [
              0.4444444444444444,
              "#bd3786"
             ],
             [
              0.5555555555555556,
              "#d8576b"
             ],
             [
              0.6666666666666666,
              "#ed7953"
             ],
             [
              0.7777777777777778,
              "#fb9f3a"
             ],
             [
              0.8888888888888888,
              "#fdca26"
             ],
             [
              1,
              "#f0f921"
             ]
            ],
            "type": "heatmapgl"
           }
          ],
          "histogram": [
           {
            "marker": {
             "pattern": {
              "fillmode": "overlay",
              "size": 10,
              "solidity": 0.2
             }
            },
            "type": "histogram"
           }
          ],
          "histogram2d": [
           {
            "colorbar": {
             "outlinewidth": 0,
             "ticks": ""
            },
            "colorscale": [
             [
              0,
              "#0d0887"
             ],
             [
              0.1111111111111111,
              "#46039f"
             ],
             [
              0.2222222222222222,
              "#7201a8"
             ],
             [
              0.3333333333333333,
              "#9c179e"
             ],
             [
              0.4444444444444444,
              "#bd3786"
             ],
             [
              0.5555555555555556,
              "#d8576b"
             ],
             [
              0.6666666666666666,
              "#ed7953"
             ],
             [
              0.7777777777777778,
              "#fb9f3a"
             ],
             [
              0.8888888888888888,
              "#fdca26"
             ],
             [
              1,
              "#f0f921"
             ]
            ],
            "type": "histogram2d"
           }
          ],
          "histogram2dcontour": [
           {
            "colorbar": {
             "outlinewidth": 0,
             "ticks": ""
            },
            "colorscale": [
             [
              0,
              "#0d0887"
             ],
             [
              0.1111111111111111,
              "#46039f"
             ],
             [
              0.2222222222222222,
              "#7201a8"
             ],
             [
              0.3333333333333333,
              "#9c179e"
             ],
             [
              0.4444444444444444,
              "#bd3786"
             ],
             [
              0.5555555555555556,
              "#d8576b"
             ],
             [
              0.6666666666666666,
              "#ed7953"
             ],
             [
              0.7777777777777778,
              "#fb9f3a"
             ],
             [
              0.8888888888888888,
              "#fdca26"
             ],
             [
              1,
              "#f0f921"
             ]
            ],
            "type": "histogram2dcontour"
           }
          ],
          "mesh3d": [
           {
            "colorbar": {
             "outlinewidth": 0,
             "ticks": ""
            },
            "type": "mesh3d"
           }
          ],
          "parcoords": [
           {
            "line": {
             "colorbar": {
              "outlinewidth": 0,
              "ticks": ""
             }
            },
            "type": "parcoords"
           }
          ],
          "pie": [
           {
            "automargin": true,
            "type": "pie"
           }
          ],
          "scatter": [
           {
            "marker": {
             "line": {
              "color": "#283442"
             }
            },
            "type": "scatter"
           }
          ],
          "scatter3d": [
           {
            "line": {
             "colorbar": {
              "outlinewidth": 0,
              "ticks": ""
             }
            },
            "marker": {
             "colorbar": {
              "outlinewidth": 0,
              "ticks": ""
             }
            },
            "type": "scatter3d"
           }
          ],
          "scattercarpet": [
           {
            "marker": {
             "colorbar": {
              "outlinewidth": 0,
              "ticks": ""
             }
            },
            "type": "scattercarpet"
           }
          ],
          "scattergeo": [
           {
            "marker": {
             "colorbar": {
              "outlinewidth": 0,
              "ticks": ""
             }
            },
            "type": "scattergeo"
           }
          ],
          "scattergl": [
           {
            "marker": {
             "line": {
              "color": "#283442"
             }
            },
            "type": "scattergl"
           }
          ],
          "scattermapbox": [
           {
            "marker": {
             "colorbar": {
              "outlinewidth": 0,
              "ticks": ""
             }
            },
            "type": "scattermapbox"
           }
          ],
          "scatterpolar": [
           {
            "marker": {
             "colorbar": {
              "outlinewidth": 0,
              "ticks": ""
             }
            },
            "type": "scatterpolar"
           }
          ],
          "scatterpolargl": [
           {
            "marker": {
             "colorbar": {
              "outlinewidth": 0,
              "ticks": ""
             }
            },
            "type": "scatterpolargl"
           }
          ],
          "scatterternary": [
           {
            "marker": {
             "colorbar": {
              "outlinewidth": 0,
              "ticks": ""
             }
            },
            "type": "scatterternary"
           }
          ],
          "surface": [
           {
            "colorbar": {
             "outlinewidth": 0,
             "ticks": ""
            },
            "colorscale": [
             [
              0,
              "#0d0887"
             ],
             [
              0.1111111111111111,
              "#46039f"
             ],
             [
              0.2222222222222222,
              "#7201a8"
             ],
             [
              0.3333333333333333,
              "#9c179e"
             ],
             [
              0.4444444444444444,
              "#bd3786"
             ],
             [
              0.5555555555555556,
              "#d8576b"
             ],
             [
              0.6666666666666666,
              "#ed7953"
             ],
             [
              0.7777777777777778,
              "#fb9f3a"
             ],
             [
              0.8888888888888888,
              "#fdca26"
             ],
             [
              1,
              "#f0f921"
             ]
            ],
            "type": "surface"
           }
          ],
          "table": [
           {
            "cells": {
             "fill": {
              "color": "#506784"
             },
             "line": {
              "color": "rgb(17,17,17)"
             }
            },
            "header": {
             "fill": {
              "color": "#2a3f5f"
             },
             "line": {
              "color": "rgb(17,17,17)"
             }
            },
            "type": "table"
           }
          ]
         },
         "layout": {
          "annotationdefaults": {
           "arrowcolor": "#f2f5fa",
           "arrowhead": 0,
           "arrowwidth": 1
          },
          "autotypenumbers": "strict",
          "coloraxis": {
           "colorbar": {
            "outlinewidth": 0,
            "ticks": ""
           }
          },
          "colorscale": {
           "diverging": [
            [
             0,
             "#8e0152"
            ],
            [
             0.1,
             "#c51b7d"
            ],
            [
             0.2,
             "#de77ae"
            ],
            [
             0.3,
             "#f1b6da"
            ],
            [
             0.4,
             "#fde0ef"
            ],
            [
             0.5,
             "#f7f7f7"
            ],
            [
             0.6,
             "#e6f5d0"
            ],
            [
             0.7,
             "#b8e186"
            ],
            [
             0.8,
             "#7fbc41"
            ],
            [
             0.9,
             "#4d9221"
            ],
            [
             1,
             "#276419"
            ]
           ],
           "sequential": [
            [
             0,
             "#0d0887"
            ],
            [
             0.1111111111111111,
             "#46039f"
            ],
            [
             0.2222222222222222,
             "#7201a8"
            ],
            [
             0.3333333333333333,
             "#9c179e"
            ],
            [
             0.4444444444444444,
             "#bd3786"
            ],
            [
             0.5555555555555556,
             "#d8576b"
            ],
            [
             0.6666666666666666,
             "#ed7953"
            ],
            [
             0.7777777777777778,
             "#fb9f3a"
            ],
            [
             0.8888888888888888,
             "#fdca26"
            ],
            [
             1,
             "#f0f921"
            ]
           ],
           "sequentialminus": [
            [
             0,
             "#0d0887"
            ],
            [
             0.1111111111111111,
             "#46039f"
            ],
            [
             0.2222222222222222,
             "#7201a8"
            ],
            [
             0.3333333333333333,
             "#9c179e"
            ],
            [
             0.4444444444444444,
             "#bd3786"
            ],
            [
             0.5555555555555556,
             "#d8576b"
            ],
            [
             0.6666666666666666,
             "#ed7953"
            ],
            [
             0.7777777777777778,
             "#fb9f3a"
            ],
            [
             0.8888888888888888,
             "#fdca26"
            ],
            [
             1,
             "#f0f921"
            ]
           ]
          },
          "colorway": [
           "#636efa",
           "#EF553B",
           "#00cc96",
           "#ab63fa",
           "#FFA15A",
           "#19d3f3",
           "#FF6692",
           "#B6E880",
           "#FF97FF",
           "#FECB52"
          ],
          "font": {
           "color": "#f2f5fa"
          },
          "geo": {
           "bgcolor": "rgb(17,17,17)",
           "lakecolor": "rgb(17,17,17)",
           "landcolor": "rgb(17,17,17)",
           "showlakes": true,
           "showland": true,
           "subunitcolor": "#506784"
          },
          "hoverlabel": {
           "align": "left"
          },
          "hovermode": "closest",
          "mapbox": {
           "style": "dark"
          },
          "paper_bgcolor": "rgb(17,17,17)",
          "plot_bgcolor": "rgb(17,17,17)",
          "polar": {
           "angularaxis": {
            "gridcolor": "#506784",
            "linecolor": "#506784",
            "ticks": ""
           },
           "bgcolor": "rgb(17,17,17)",
           "radialaxis": {
            "gridcolor": "#506784",
            "linecolor": "#506784",
            "ticks": ""
           }
          },
          "scene": {
           "xaxis": {
            "backgroundcolor": "rgb(17,17,17)",
            "gridcolor": "#506784",
            "gridwidth": 2,
            "linecolor": "#506784",
            "showbackground": true,
            "ticks": "",
            "zerolinecolor": "#C8D4E3"
           },
           "yaxis": {
            "backgroundcolor": "rgb(17,17,17)",
            "gridcolor": "#506784",
            "gridwidth": 2,
            "linecolor": "#506784",
            "showbackground": true,
            "ticks": "",
            "zerolinecolor": "#C8D4E3"
           },
           "zaxis": {
            "backgroundcolor": "rgb(17,17,17)",
            "gridcolor": "#506784",
            "gridwidth": 2,
            "linecolor": "#506784",
            "showbackground": true,
            "ticks": "",
            "zerolinecolor": "#C8D4E3"
           }
          },
          "shapedefaults": {
           "line": {
            "color": "#f2f5fa"
           }
          },
          "sliderdefaults": {
           "bgcolor": "#C8D4E3",
           "bordercolor": "rgb(17,17,17)",
           "borderwidth": 1,
           "tickwidth": 0
          },
          "ternary": {
           "aaxis": {
            "gridcolor": "#506784",
            "linecolor": "#506784",
            "ticks": ""
           },
           "baxis": {
            "gridcolor": "#506784",
            "linecolor": "#506784",
            "ticks": ""
           },
           "bgcolor": "rgb(17,17,17)",
           "caxis": {
            "gridcolor": "#506784",
            "linecolor": "#506784",
            "ticks": ""
           }
          },
          "title": {
           "x": 0.05
          },
          "updatemenudefaults": {
           "bgcolor": "#506784",
           "borderwidth": 0
          },
          "xaxis": {
           "automargin": true,
           "gridcolor": "#283442",
           "linecolor": "#506784",
           "ticks": "",
           "title": {
            "standoff": 15
           },
           "zerolinecolor": "#283442",
           "zerolinewidth": 2
          },
          "yaxis": {
           "automargin": true,
           "gridcolor": "#283442",
           "linecolor": "#506784",
           "ticks": "",
           "title": {
            "standoff": 15
           },
           "zerolinecolor": "#283442",
           "zerolinewidth": 2
          }
         }
        },
        "title": {
         "text": "Player stats comparison"
        }
       }
      }
     },
     "metadata": {},
     "output_type": "display_data"
    }
   ],
   "source": [
    "test_set = pd.read_csv(\"C:/Users/PC/Desktop/Kandidat - 9. semester/Data Visulization/Respository/Data-Visualisation-project-2022-1/Data/FIFA22_official_data.csv\")\n",
    "radar_plot(test_set[test_set['Name']=='E. Can'],test_set[test_set['Name']=='L. Messi'])"
   ]
  },
  {
   "cell_type": "code",
   "execution_count": 70,
   "metadata": {},
   "outputs": [],
   "source": [
    "from PIL import Image, ImageTk\n",
    "from urllib import request\n",
    "import PySimpleGUI as sg\n",
    "import pandas as pd\n",
    "url = (    \"https://cdn.sofifa.com/players/208/333/22_60.png\")\n",
    "headers = {\n",
    "    'User-Agent': (\n",
    "        'Mozilla/5.0 (Windows NT 10.0; Win64; x64) AppleWebKit/537.36 '\n",
    "        '(KHTML, like Gecko) Chrome/80.0.3987.149 Safari/537.36')}\n",
    "req = request.Request(url, headers=headers)\n",
    "response = request.urlopen(req)\n",
    "if response.status != 200:\n",
    "    print(\"Failed to load image from website !\")\n",
    "    exit()\n",
    "data = response.read()\n",
    "\n",
    "filename = \"example.png\"\n",
    "with open(filename, \"wb\") as f:\n",
    "    f.write(data)\n",
    "\n",
    "# Resize PNG file to size (100, 100)\n",
    "size = (100, 100)\n",
    "im1 = Image.open(filename)\n",
    "im1 = im1.resize(size, resample=Image.BICUBIC)\n"
   ]
  },
  {
   "cell_type": "code",
   "execution_count": 71,
   "metadata": {},
   "outputs": [],
   "source": [
    "from PIL import Image, ImageTk\n",
    "from urllib import request\n",
    "import PySimpleGUI as sg\n",
    "import pandas as pd\n",
    "url = (    \"https://cdn.sofifa.com/players/158/023/22_60.png\")\n",
    "headers = {\n",
    "    'User-Agent': (\n",
    "        'Mozilla/5.0 (Windows NT 10.0; Win64; x64) AppleWebKit/537.36 '\n",
    "        '(KHTML, like Gecko) Chrome/80.0.3987.149 Safari/537.36')}\n",
    "req = request.Request(url, headers=headers)\n",
    "response = request.urlopen(req)\n",
    "if response.status != 200:\n",
    "    print(\"Failed to load image from website !\")\n",
    "    exit()\n",
    "data = response.read()\n",
    "\n",
    "filename = \"example.png\"\n",
    "with open(filename, \"wb\") as f:\n",
    "    f.write(data)\n",
    "\n",
    "# Resize PNG file to size (100, 100)\n",
    "size = (100, 100)\n",
    "im2 = Image.open(filename)\n",
    "im2 = im2.resize(size, resample=Image.BICUBIC)\n"
   ]
  },
  {
   "cell_type": "code",
   "execution_count": 93,
   "metadata": {},
   "outputs": [],
   "source": [
    "from PIL import Image, ImageTk\n",
    "from urllib import request\n",
    "import PySimpleGUI as sg\n",
    "import pandas as pd\n",
    "url = (    \"https://cdn.sofifa.com/teams/73/30.png\")\n",
    "headers = {\n",
    "    'User-Agent': (\n",
    "        'Mozilla/5.0 (Windows NT 10.0; Win64; x64) AppleWebKit/537.36 '\n",
    "        '(KHTML, like Gecko) Chrome/80.0.3987.149 Safari/537.36')}\n",
    "req = request.Request(url, headers=headers)\n",
    "response = request.urlopen(req)\n",
    "if response.status != 200:\n",
    "    print(\"Failed to load image from website !\")\n",
    "    exit()\n",
    "data = response.read()\n",
    "\n",
    "filename = \"example.png\"\n",
    "with open(filename, \"wb\") as f:\n",
    "    f.write(data)\n",
    "\n",
    "# Resize PNG file to size (100, 100)\n",
    "size = (100, 100)\n",
    "im11 = Image.open(filename)\n",
    "im11 = im11.resize(size, resample=Image.BICUBIC)\n"
   ]
  },
  {
   "cell_type": "code",
   "execution_count": 99,
   "metadata": {},
   "outputs": [
    {
     "ename": "OSError",
     "evalue": "[Errno 22] Invalid argument: 'https://cdn.sofifa.com/teams/22/30.png'",
     "output_type": "error",
     "traceback": [
      "\u001b[1;31m---------------------------------------------------------------------------\u001b[0m",
      "\u001b[1;31mOSError\u001b[0m                                   Traceback (most recent call last)",
      "\u001b[1;32mc:\\Users\\PC\\Desktop\\Kandidat - 9. semester\\Data Visulization\\Respository\\Data-Visualisation-project-2022-1\\Radar test.ipynb Cell 6\u001b[0m in \u001b[0;36m<cell line: 18>\u001b[1;34m()\u001b[0m\n\u001b[0;32m     <a href='vscode-notebook-cell:/c%3A/Users/PC/Desktop/Kandidat%20-%209.%20semester/Data%20Visulization/Respository/Data-Visualisation-project-2022-1/Radar%20test.ipynb#X10sZmlsZQ%3D%3D?line=14'>15</a>\u001b[0m data \u001b[39m=\u001b[39m response\u001b[39m.\u001b[39mread()\n\u001b[0;32m     <a href='vscode-notebook-cell:/c%3A/Users/PC/Desktop/Kandidat%20-%209.%20semester/Data%20Visulization/Respository/Data-Visualisation-project-2022-1/Radar%20test.ipynb#X10sZmlsZQ%3D%3D?line=16'>17</a>\u001b[0m filename \u001b[39m=\u001b[39m url\n\u001b[1;32m---> <a href='vscode-notebook-cell:/c%3A/Users/PC/Desktop/Kandidat%20-%209.%20semester/Data%20Visulization/Respository/Data-Visualisation-project-2022-1/Radar%20test.ipynb#X10sZmlsZQ%3D%3D?line=17'>18</a>\u001b[0m \u001b[39mwith\u001b[39;00m \u001b[39mopen\u001b[39;49m(filename, \u001b[39m\"\u001b[39;49m\u001b[39mwb\u001b[39;49m\u001b[39m\"\u001b[39;49m) \u001b[39mas\u001b[39;00m f:\n\u001b[0;32m     <a href='vscode-notebook-cell:/c%3A/Users/PC/Desktop/Kandidat%20-%209.%20semester/Data%20Visulization/Respository/Data-Visualisation-project-2022-1/Radar%20test.ipynb#X10sZmlsZQ%3D%3D?line=18'>19</a>\u001b[0m     f\u001b[39m.\u001b[39mwrite(data)\n\u001b[0;32m     <a href='vscode-notebook-cell:/c%3A/Users/PC/Desktop/Kandidat%20-%209.%20semester/Data%20Visulization/Respository/Data-Visualisation-project-2022-1/Radar%20test.ipynb#X10sZmlsZQ%3D%3D?line=20'>21</a>\u001b[0m \u001b[39m# Resize PNG file to size (100, 100)\u001b[39;00m\n",
      "\u001b[1;31mOSError\u001b[0m: [Errno 22] Invalid argument: 'https://cdn.sofifa.com/teams/22/30.png'"
     ]
    }
   ],
   "source": [
    "from PIL import Image, ImageTk\n",
    "from urllib import request\n",
    "import PySimpleGUI as sg\n",
    "import pandas as pd\n",
    "url = (    \"https://cdn.sofifa.com/teams/22/30.png\")\n",
    "headers = {\n",
    "    'User-Agent': (\n",
    "        'Mozilla/5.0 (Windows NT 10.0; Win64; x64) AppleWebKit/537.36 '\n",
    "        '(KHTML, like Gecko) Chrome/80.0.3987.149 Safari/537.36')}\n",
    "req = request.Request(url, headers=headers)\n",
    "response = request.urlopen(req)\n",
    "if response.status != 200:\n",
    "    print(\"Failed to load image from website !\")\n",
    "    exit()\n",
    "data = response.read()\n",
    "\n",
    "filename = \"example.png\"\n",
    "with open(filename, \"wb\") as f:\n",
    "    f.write(data)\n",
    "\n",
    "# Resize PNG file to size (100, 100)\n",
    "size = (100, 100)\n",
    "im21 = Image.open(filename)\n",
    "im21 = im21.resize(size, resample=Image.BICUBIC)\n"
   ]
  }
 ],
 "metadata": {
  "kernelspec": {
   "display_name": "Python 3.9.12 ('base')",
   "language": "python",
   "name": "python3"
  },
  "language_info": {
   "codemirror_mode": {
    "name": "ipython",
    "version": 3
   },
   "file_extension": ".py",
   "mimetype": "text/x-python",
   "name": "python",
   "nbconvert_exporter": "python",
   "pygments_lexer": "ipython3",
   "version": "3.9.12"
  },
  "orig_nbformat": 4,
  "vscode": {
   "interpreter": {
    "hash": "ad2bdc8ecc057115af97d19610ffacc2b4e99fae6737bb82f5d7fb13d2f2c186"
   }
  }
 },
 "nbformat": 4,
 "nbformat_minor": 2
}
